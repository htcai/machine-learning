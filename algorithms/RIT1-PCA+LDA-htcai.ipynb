{
 "cells": [
  {
   "cell_type": "markdown",
   "metadata": {},
   "source": [
    "# Create a logistic regression model to predict RIT1 mutation from gene expression data in TCGA"
   ]
  },
  {
   "cell_type": "code",
   "execution_count": 1,
   "metadata": {
    "collapsed": false
   },
   "outputs": [],
   "source": [
    "import os\n",
    "import urllib\n",
    "import random\n",
    "import warnings\n",
    "\n",
    "import pandas as pd\n",
    "import numpy as np\n",
    "import matplotlib.pyplot as plt\n",
    "import seaborn as sns\n",
    "from sklearn import preprocessing\n",
    "from sklearn.linear_model import SGDClassifier\n",
    "from sklearn.model_selection import train_test_split, GridSearchCV\n",
    "from sklearn.metrics import roc_auc_score, roc_curve\n",
    "from sklearn.preprocessing import StandardScaler\n",
    "from sklearn.decomposition import PCA\n",
    "from sklearn.discriminant_analysis import LinearDiscriminantAnalysis"
   ]
  },
  {
   "cell_type": "code",
   "execution_count": 2,
   "metadata": {
    "collapsed": false
   },
   "outputs": [],
   "source": [
    "%matplotlib inline\n",
    "plt.style.use('seaborn-notebook')"
   ]
  },
  {
   "cell_type": "markdown",
   "metadata": {},
   "source": [
    "## Specify model configuration"
   ]
  },
  {
   "cell_type": "code",
   "execution_count": 3,
   "metadata": {
    "collapsed": true
   },
   "outputs": [],
   "source": [
    "# We're going to be building a 'RIT1' classifier \n",
    "GENE = '6016'# RIT1"
   ]
  },
  {
   "cell_type": "markdown",
   "metadata": {},
   "source": [
    "*Here is some [documentation](http://scikit-learn.org/stable/modules/generated/sklearn.linear_model.SGDClassifier.html) regarding the classifier and hyperparameters*\n",
    "\n",
    "*Here is some [information](https://ghr.nlm.nih.gov/gene/RIT1) about RIT1*"
   ]
  },
  {
   "cell_type": "markdown",
   "metadata": {},
   "source": [
    "## Load Data"
   ]
  },
  {
   "cell_type": "code",
   "execution_count": 4,
   "metadata": {
    "collapsed": false
   },
   "outputs": [
    {
     "name": "stdout",
     "output_type": "stream",
     "text": [
      "CPU times: user 1min 13s, sys: 636 ms, total: 1min 14s\n",
      "Wall time: 1min 14s\n"
     ]
    }
   ],
   "source": [
    "%%time\n",
    "path = os.path.join('..', 'download', 'expression-matrix.tsv.bz2')\n",
    "X = pd.read_table(path, index_col=0)"
   ]
  },
  {
   "cell_type": "code",
   "execution_count": 5,
   "metadata": {
    "collapsed": false
   },
   "outputs": [
    {
     "name": "stdout",
     "output_type": "stream",
     "text": [
      "CPU times: user 43.3 s, sys: 284 ms, total: 43.6 s\n",
      "Wall time: 43.5 s\n"
     ]
    }
   ],
   "source": [
    "%%time\n",
    "path = os.path.join('..', 'download', 'mutation-matrix.tsv.bz2')\n",
    "Y = pd.read_table(path, index_col=0)"
   ]
  },
  {
   "cell_type": "code",
   "execution_count": 6,
   "metadata": {
    "collapsed": false
   },
   "outputs": [],
   "source": [
    "y = Y[GENE]"
   ]
  },
  {
   "cell_type": "code",
   "execution_count": 7,
   "metadata": {
    "collapsed": false
   },
   "outputs": [
    {
     "data": {
      "text/plain": [
       "sample_id\n",
       "TCGA-02-0047-01    0\n",
       "TCGA-02-0055-01    0\n",
       "TCGA-02-2483-01    0\n",
       "TCGA-02-2485-01    0\n",
       "TCGA-02-2486-01    0\n",
       "TCGA-04-1348-01    0\n",
       "Name: 6016, dtype: int64"
      ]
     },
     "execution_count": 7,
     "metadata": {},
     "output_type": "execute_result"
    }
   ],
   "source": [
    "# The Series now holds RIT1 Mutation Status for each Sample\n",
    "y.head(6)"
   ]
  },
  {
   "cell_type": "code",
   "execution_count": 8,
   "metadata": {
    "collapsed": false
   },
   "outputs": [
    {
     "data": {
      "text/plain": [
       "0    0.997126\n",
       "1    0.002874\n",
       "Name: 6016, dtype: float64"
      ]
     },
     "execution_count": 8,
     "metadata": {},
     "output_type": "execute_result"
    }
   ],
   "source": [
    "# Here are the percentage of tumors with RIT1\n",
    "y.value_counts(True)"
   ]
  },
  {
   "cell_type": "markdown",
   "metadata": {},
   "source": [
    "## Set aside 10% of the data for testing"
   ]
  },
  {
   "cell_type": "code",
   "execution_count": 9,
   "metadata": {
    "collapsed": false
   },
   "outputs": [
    {
     "data": {
      "text/plain": [
       "'Size: 20,530 features, 6,575 training samples, 731 testing samples'"
      ]
     },
     "execution_count": 9,
     "metadata": {},
     "output_type": "execute_result"
    }
   ],
   "source": [
    "# Typically, this can only be done where the number of mutations is large enough\n",
    "X_train, X_test, y_train, y_test = train_test_split(X, y, test_size=0.1, random_state=0)\n",
    "'Size: {:,} features, {:,} training samples, {:,} testing samples'.format(len(X.columns), len(X_train), len(X_test))"
   ]
  },
  {
   "cell_type": "markdown",
   "metadata": {},
   "source": [
    "## Feature Standardization"
   ]
  },
  {
   "cell_type": "code",
   "execution_count": 10,
   "metadata": {
    "collapsed": false
   },
   "outputs": [
    {
     "name": "stdout",
     "output_type": "stream",
     "text": [
      "CPU times: user 1.9 s, sys: 1.75 s, total: 3.65 s\n",
      "Wall time: 6.16 s\n"
     ]
    }
   ],
   "source": [
    "%%time\n",
    "scale = StandardScaler()\n",
    "X_train_scale = scale.fit_transform(X_train)\n",
    "X_test_scale = scale.transform(X_test)"
   ]
  },
  {
   "cell_type": "markdown",
   "metadata": {},
   "source": [
    "## Reducing noise via PCA"
   ]
  },
  {
   "cell_type": "code",
   "execution_count": 11,
   "metadata": {
    "collapsed": false,
    "scrolled": true
   },
   "outputs": [
    {
     "name": "stdout",
     "output_type": "stream",
     "text": [
      "CPU times: user 14.9 s, sys: 1.23 s, total: 16.2 s\n",
      "Wall time: 6.89 s\n"
     ]
    }
   ],
   "source": [
    "%%time\n",
    "n_components = 50\n",
    "pca = PCA(n_components=n_components, random_state=0)\n",
    "X_train_pca = pca.fit_transform(X_train_scale)\n",
    "X_test_pca = pca.transform(X_test_scale)"
   ]
  },
  {
   "cell_type": "markdown",
   "metadata": {},
   "source": [
    "## Dimensionality reduction via LDA"
   ]
  },
  {
   "cell_type": "code",
   "execution_count": 12,
   "metadata": {
    "collapsed": false
   },
   "outputs": [
    {
     "name": "stdout",
     "output_type": "stream",
     "text": [
      "CPU times: user 208 ms, sys: 0 ns, total: 208 ms\n",
      "Wall time: 63.1 ms\n"
     ]
    }
   ],
   "source": [
    "%%time\n",
    "\n",
    "lda = LinearDiscriminantAnalysis(n_components=2)\n",
    "X_train_lda = lda.fit_transform(X_train_pca, y_train)\n",
    "X_test_lda = lda.transform(X_test_pca)"
   ]
  },
  {
   "cell_type": "markdown",
   "metadata": {},
   "source": [
    "## Parameters"
   ]
  },
  {
   "cell_type": "code",
   "execution_count": 13,
   "metadata": {
    "collapsed": true
   },
   "outputs": [],
   "source": [
    "param_grid = {\n",
    "    'alpha': [10 ** x for x in range(-4, 1)],\n",
    "    'l1_ratio': [0, 0.2, 0.5, 0.8, 1],\n",
    "}"
   ]
  },
  {
   "cell_type": "code",
   "execution_count": 14,
   "metadata": {
    "collapsed": false
   },
   "outputs": [
    {
     "name": "stdout",
     "output_type": "stream",
     "text": [
      "CPU times: user 1.02 s, sys: 268 ms, total: 1.29 s\n",
      "Wall time: 2.42 s\n"
     ]
    }
   ],
   "source": [
    "%%time\n",
    "clf = SGDClassifier(random_state=0, class_weight='balanced', loss='log', penalty='elasticnet')\n",
    "cv = GridSearchCV(estimator=clf, param_grid=param_grid, n_jobs=-1, scoring='roc_auc')\n",
    "cv.fit(X = X_train_lda, y=y_train)"
   ]
  },
  {
   "cell_type": "code",
   "execution_count": 15,
   "metadata": {
    "collapsed": false
   },
   "outputs": [
    {
     "name": "stdout",
     "output_type": "stream",
     "text": [
      "90.637%\n"
     ]
    },
    {
     "data": {
      "text/plain": [
       "{'alpha': 0.0001, 'l1_ratio': 0}"
      ]
     },
     "execution_count": 15,
     "metadata": {},
     "output_type": "execute_result"
    }
   ],
   "source": [
    "# Best Params\n",
    "print('{:.3%}'.format(cv.best_score_))\n",
    "\n",
    "# Best Params\n",
    "cv.best_params_"
   ]
  },
  {
   "cell_type": "markdown",
   "metadata": {},
   "source": [
    "## Visualize hyperparameters performance"
   ]
  },
  {
   "cell_type": "code",
   "execution_count": 16,
   "metadata": {
    "collapsed": false,
    "scrolled": true
   },
   "outputs": [
    {
     "data": {
      "text/html": [
       "<div>\n",
       "<table border=\"1\" class=\"dataframe\">\n",
       "  <thead>\n",
       "    <tr style=\"text-align: right;\">\n",
       "      <th></th>\n",
       "      <th>mean_fit_time</th>\n",
       "      <th>mean_score_time</th>\n",
       "      <th>mean_test_score</th>\n",
       "      <th>mean_train_score</th>\n",
       "      <th>param_alpha</th>\n",
       "      <th>param_l1_ratio</th>\n",
       "      <th>params</th>\n",
       "      <th>rank_test_score</th>\n",
       "      <th>split0_test_score</th>\n",
       "      <th>split0_train_score</th>\n",
       "      <th>split1_test_score</th>\n",
       "      <th>split1_train_score</th>\n",
       "      <th>split2_test_score</th>\n",
       "      <th>split2_train_score</th>\n",
       "      <th>std_fit_time</th>\n",
       "      <th>std_score_time</th>\n",
       "      <th>std_test_score</th>\n",
       "      <th>std_train_score</th>\n",
       "      <th>alpha</th>\n",
       "      <th>l1_ratio</th>\n",
       "    </tr>\n",
       "  </thead>\n",
       "  <tbody>\n",
       "    <tr>\n",
       "      <th>0</th>\n",
       "      <td>0.009799</td>\n",
       "      <td>0.002078</td>\n",
       "      <td>0.906367</td>\n",
       "      <td>0.908201</td>\n",
       "      <td>0.0001</td>\n",
       "      <td>0</td>\n",
       "      <td>{'l1_ratio': 0, 'alpha': 0.0001}</td>\n",
       "      <td>1</td>\n",
       "      <td>0.911177</td>\n",
       "      <td>0.906533</td>\n",
       "      <td>0.924291</td>\n",
       "      <td>0.899193</td>\n",
       "      <td>0.883623</td>\n",
       "      <td>0.918878</td>\n",
       "      <td>0.000345</td>\n",
       "      <td>0.000182</td>\n",
       "      <td>0.016947</td>\n",
       "      <td>0.008122</td>\n",
       "      <td>0.0001</td>\n",
       "      <td>0.0</td>\n",
       "    </tr>\n",
       "    <tr>\n",
       "      <th>1</th>\n",
       "      <td>0.006377</td>\n",
       "      <td>0.002129</td>\n",
       "      <td>0.906367</td>\n",
       "      <td>0.908201</td>\n",
       "      <td>0.0001</td>\n",
       "      <td>0.2</td>\n",
       "      <td>{'l1_ratio': 0.2, 'alpha': 0.0001}</td>\n",
       "      <td>1</td>\n",
       "      <td>0.911177</td>\n",
       "      <td>0.906533</td>\n",
       "      <td>0.924291</td>\n",
       "      <td>0.899193</td>\n",
       "      <td>0.883623</td>\n",
       "      <td>0.918878</td>\n",
       "      <td>0.000085</td>\n",
       "      <td>0.000812</td>\n",
       "      <td>0.016947</td>\n",
       "      <td>0.008122</td>\n",
       "      <td>0.0001</td>\n",
       "      <td>0.2</td>\n",
       "    </tr>\n",
       "  </tbody>\n",
       "</table>\n",
       "</div>"
      ],
      "text/plain": [
       "   mean_fit_time  mean_score_time  mean_test_score  mean_train_score  \\\n",
       "0       0.009799         0.002078         0.906367          0.908201   \n",
       "1       0.006377         0.002129         0.906367          0.908201   \n",
       "\n",
       "  param_alpha param_l1_ratio                              params  \\\n",
       "0      0.0001              0    {'l1_ratio': 0, 'alpha': 0.0001}   \n",
       "1      0.0001            0.2  {'l1_ratio': 0.2, 'alpha': 0.0001}   \n",
       "\n",
       "   rank_test_score  split0_test_score  split0_train_score  split1_test_score  \\\n",
       "0                1           0.911177            0.906533           0.924291   \n",
       "1                1           0.911177            0.906533           0.924291   \n",
       "\n",
       "   split1_train_score  split2_test_score  split2_train_score  std_fit_time  \\\n",
       "0            0.899193           0.883623            0.918878      0.000345   \n",
       "1            0.899193           0.883623            0.918878      0.000085   \n",
       "\n",
       "   std_score_time  std_test_score  std_train_score   alpha  l1_ratio  \n",
       "0        0.000182        0.016947         0.008122  0.0001       0.0  \n",
       "1        0.000812        0.016947         0.008122  0.0001       0.2  "
      ]
     },
     "execution_count": 16,
     "metadata": {},
     "output_type": "execute_result"
    }
   ],
   "source": [
    "cv_result_df = pd.concat([\n",
    "    pd.DataFrame(cv.cv_results_),\n",
    "    pd.DataFrame.from_records(cv.cv_results_['params']),\n",
    "], axis='columns')\n",
    "cv_result_df.head(2)"
   ]
  },
  {
   "cell_type": "code",
   "execution_count": 17,
   "metadata": {
    "collapsed": false,
    "scrolled": true
   },
   "outputs": [
    {
     "data": {
      "image/png": "[encoded data removed]",
      "text/plain": [
       "<matplotlib.figure.Figure at 0x7f4c37b0b7f0>"
      ]
     },
     "metadata": {},
     "output_type": "display_data"
    }
   ],
   "source": [
    "# Cross-validated performance heatmap\n",
    "cv_score_mat = pd.pivot_table(cv_result_df, values='mean_test_score', index='l1_ratio', columns='alpha')\n",
    "ax = sns.heatmap(cv_score_mat, annot=True, fmt='.1%')\n",
    "ax.set_xlabel('Regularization strength multiplier (alpha)')\n",
    "ax.set_ylabel('Elastic net mixing parameter (l1_ratio)');"
   ]
  },
  {
   "cell_type": "markdown",
   "metadata": {},
   "source": [
    "## Use Optimal Hyperparameters to Output ROC Curve"
   ]
  },
  {
   "cell_type": "code",
   "execution_count": 18,
   "metadata": {
    "collapsed": false
   },
   "outputs": [],
   "source": [
    "y_pred_train = cv.decision_function(X_train_lda)\n",
    "y_pred_test = cv.decision_function(X_test_lda)\n",
    "\n",
    "def get_threshold_metrics(y_true, y_pred):\n",
    "    roc_columns = ['fpr', 'tpr', 'threshold']\n",
    "    roc_items = zip(roc_columns, roc_curve(y_true, y_pred))\n",
    "    roc_df = pd.DataFrame.from_items(roc_items)\n",
    "    auroc = roc_auc_score(y_true, y_pred)\n",
    "    return {'auroc': auroc, 'roc_df': roc_df}\n",
    "\n",
    "metrics_train = get_threshold_metrics(y_train, y_pred_train)\n",
    "metrics_test = get_threshold_metrics(y_test, y_pred_test)"
   ]
  },
  {
   "cell_type": "code",
   "execution_count": 19,
   "metadata": {
    "collapsed": false,
    "scrolled": true
   },
   "outputs": [
    {
     "data": {
      "image/png": "[encoded data removed]",
      "text/plain": [
       "<matplotlib.figure.Figure at 0x7f4c27310470>"
      ]
     },
     "metadata": {},
     "output_type": "display_data"
    }
   ],
   "source": [
    "# Plot ROC\n",
    "plt.figure()\n",
    "for label, metrics in ('Training', metrics_train), ('Testing', metrics_test):\n",
    "    roc_df = metrics['roc_df']\n",
    "    plt.plot(roc_df.fpr, roc_df.tpr,\n",
    "        label='{} (AUROC = {:.1%})'.format(label, metrics['auroc']))\n",
    "plt.xlim([0.0, 1.0])\n",
    "plt.ylim([0.0, 1.05])\n",
    "plt.xlabel('False Positive Rate')\n",
    "plt.ylabel('True Positive Rate')\n",
    "plt.title('Predicting RIT1 mutation from gene expression (ROC curves)')\n",
    "plt.legend(loc='lower right');"
   ]
  },
  {
   "cell_type": "markdown",
   "metadata": {},
   "source": [
    "## Investigate the predictions"
   ]
  },
  {
   "cell_type": "code",
   "execution_count": 20,
   "metadata": {
    "collapsed": true
   },
   "outputs": [],
   "source": [
    "X_transformed = lda.transform(pca.transform(X))"
   ]
  },
  {
   "cell_type": "code",
   "execution_count": 21,
   "metadata": {
    "collapsed": false,
    "scrolled": false
   },
   "outputs": [],
   "source": [
    "predict_df = pd.DataFrame.from_items([\n",
    "    ('sample_id', X.index),\n",
    "    ('testing', X.index.isin(X_test.index).astype(int)),\n",
    "    ('status', y),\n",
    "    ('decision_function', cv.decision_function(X_transformed)),\n",
    "    ('probability', cv.predict_proba(X_transformed)[:, 1]),\n",
    "])\n",
    "predict_df['probability_str'] = predict_df['probability'].apply('{:.1%}'.format)"
   ]
  },
  {
   "cell_type": "code",
   "execution_count": 22,
   "metadata": {
    "collapsed": false,
    "scrolled": true
   },
   "outputs": [
    {
     "data": {
      "text/html": [
       "<div>\n",
       "<table border=\"1\" class=\"dataframe\">\n",
       "  <thead>\n",
       "    <tr style=\"text-align: right;\">\n",
       "      <th></th>\n",
       "      <th>sample_id</th>\n",
       "      <th>testing</th>\n",
       "      <th>status</th>\n",
       "      <th>decision_function</th>\n",
       "      <th>probability</th>\n",
       "      <th>probability_str</th>\n",
       "    </tr>\n",
       "    <tr>\n",
       "      <th>sample_id</th>\n",
       "      <th></th>\n",
       "      <th></th>\n",
       "      <th></th>\n",
       "      <th></th>\n",
       "      <th></th>\n",
       "      <th></th>\n",
       "    </tr>\n",
       "  </thead>\n",
       "  <tbody>\n",
       "    <tr>\n",
       "      <th>TCGA-C5-A2LS-01</th>\n",
       "      <td>TCGA-C5-A2LS-01</td>\n",
       "      <td>0</td>\n",
       "      <td>0</td>\n",
       "      <td>-30.017746</td>\n",
       "      <td>9.193025e-14</td>\n",
       "      <td>0.0%</td>\n",
       "    </tr>\n",
       "    <tr>\n",
       "      <th>TCGA-C5-A2M2-01</th>\n",
       "      <td>TCGA-C5-A2M2-01</td>\n",
       "      <td>0</td>\n",
       "      <td>0</td>\n",
       "      <td>-44.053545</td>\n",
       "      <td>7.375447e-20</td>\n",
       "      <td>0.0%</td>\n",
       "    </tr>\n",
       "    <tr>\n",
       "      <th>TCGA-78-7540-01</th>\n",
       "      <td>TCGA-78-7540-01</td>\n",
       "      <td>0</td>\n",
       "      <td>0</td>\n",
       "      <td>-47.364081</td>\n",
       "      <td>2.691790e-21</td>\n",
       "      <td>0.0%</td>\n",
       "    </tr>\n",
       "    <tr>\n",
       "      <th>TCGA-EK-A2RL-01</th>\n",
       "      <td>TCGA-EK-A2RL-01</td>\n",
       "      <td>0</td>\n",
       "      <td>0</td>\n",
       "      <td>-49.892208</td>\n",
       "      <td>2.148272e-22</td>\n",
       "      <td>0.0%</td>\n",
       "    </tr>\n",
       "    <tr>\n",
       "      <th>TCGA-IR-A3LI-01</th>\n",
       "      <td>TCGA-IR-A3LI-01</td>\n",
       "      <td>0</td>\n",
       "      <td>0</td>\n",
       "      <td>-50.518993</td>\n",
       "      <td>1.147836e-22</td>\n",
       "      <td>0.0%</td>\n",
       "    </tr>\n",
       "    <tr>\n",
       "      <th>TCGA-44-6146-01</th>\n",
       "      <td>TCGA-44-6146-01</td>\n",
       "      <td>0</td>\n",
       "      <td>0</td>\n",
       "      <td>-53.305856</td>\n",
       "      <td>7.072304e-24</td>\n",
       "      <td>0.0%</td>\n",
       "    </tr>\n",
       "    <tr>\n",
       "      <th>TCGA-71-6725-01</th>\n",
       "      <td>TCGA-71-6725-01</td>\n",
       "      <td>0</td>\n",
       "      <td>0</td>\n",
       "      <td>-56.839117</td>\n",
       "      <td>2.065785e-25</td>\n",
       "      <td>0.0%</td>\n",
       "    </tr>\n",
       "    <tr>\n",
       "      <th>TCGA-78-7147-01</th>\n",
       "      <td>TCGA-78-7147-01</td>\n",
       "      <td>0</td>\n",
       "      <td>0</td>\n",
       "      <td>-64.249567</td>\n",
       "      <td>1.249590e-28</td>\n",
       "      <td>0.0%</td>\n",
       "    </tr>\n",
       "    <tr>\n",
       "      <th>TCGA-55-A492-01</th>\n",
       "      <td>TCGA-55-A492-01</td>\n",
       "      <td>0</td>\n",
       "      <td>0</td>\n",
       "      <td>-64.650190</td>\n",
       "      <td>8.371037e-29</td>\n",
       "      <td>0.0%</td>\n",
       "    </tr>\n",
       "    <tr>\n",
       "      <th>TCGA-FU-A3EO-01</th>\n",
       "      <td>TCGA-FU-A3EO-01</td>\n",
       "      <td>0</td>\n",
       "      <td>0</td>\n",
       "      <td>-66.148158</td>\n",
       "      <td>1.871629e-29</td>\n",
       "      <td>0.0%</td>\n",
       "    </tr>\n",
       "  </tbody>\n",
       "</table>\n",
       "</div>"
      ],
      "text/plain": [
       "                       sample_id  testing  status  decision_function  \\\n",
       "sample_id                                                              \n",
       "TCGA-C5-A2LS-01  TCGA-C5-A2LS-01        0       0         -30.017746   \n",
       "TCGA-C5-A2M2-01  TCGA-C5-A2M2-01        0       0         -44.053545   \n",
       "TCGA-78-7540-01  TCGA-78-7540-01        0       0         -47.364081   \n",
       "TCGA-EK-A2RL-01  TCGA-EK-A2RL-01        0       0         -49.892208   \n",
       "TCGA-IR-A3LI-01  TCGA-IR-A3LI-01        0       0         -50.518993   \n",
       "TCGA-44-6146-01  TCGA-44-6146-01        0       0         -53.305856   \n",
       "TCGA-71-6725-01  TCGA-71-6725-01        0       0         -56.839117   \n",
       "TCGA-78-7147-01  TCGA-78-7147-01        0       0         -64.249567   \n",
       "TCGA-55-A492-01  TCGA-55-A492-01        0       0         -64.650190   \n",
       "TCGA-FU-A3EO-01  TCGA-FU-A3EO-01        0       0         -66.148158   \n",
       "\n",
       "                  probability probability_str  \n",
       "sample_id                                      \n",
       "TCGA-C5-A2LS-01  9.193025e-14            0.0%  \n",
       "TCGA-C5-A2M2-01  7.375447e-20            0.0%  \n",
       "TCGA-78-7540-01  2.691790e-21            0.0%  \n",
       "TCGA-EK-A2RL-01  2.148272e-22            0.0%  \n",
       "TCGA-IR-A3LI-01  1.147836e-22            0.0%  \n",
       "TCGA-44-6146-01  7.072304e-24            0.0%  \n",
       "TCGA-71-6725-01  2.065785e-25            0.0%  \n",
       "TCGA-78-7147-01  1.249590e-28            0.0%  \n",
       "TCGA-55-A492-01  8.371037e-29            0.0%  \n",
       "TCGA-FU-A3EO-01  1.871629e-29            0.0%  "
      ]
     },
     "execution_count": 22,
     "metadata": {},
     "output_type": "execute_result"
    }
   ],
   "source": [
    "# Top predictions amongst negatives (potential hidden responders)\n",
    "predict_df.sort_values('decision_function', ascending=False).query(\"status == 0\").head(10)"
   ]
  },
  {
   "cell_type": "code",
   "execution_count": 23,
   "metadata": {
    "collapsed": false,
    "scrolled": true
   },
   "outputs": [
    {
     "data": {
      "image/png": "[encoded data removed]",
      "text/plain": [
       "<matplotlib.figure.Figure at 0x7f4c384f1550>"
      ]
     },
     "metadata": {},
     "output_type": "display_data"
    }
   ],
   "source": [
    "# Ignore numpy warning caused by seaborn\n",
    "warnings.filterwarnings('ignore', 'using a non-integer number instead of an integer')\n",
    "\n",
    "ax = sns.distplot(predict_df.query(\"status == 0\").decision_function, hist=False, label='Negatives')\n",
    "ax = sns.distplot(predict_df.query(\"status == 1\").decision_function, hist=False, label='Positives')"
   ]
  },
  {
   "cell_type": "code",
   "execution_count": 24,
   "metadata": {
    "collapsed": false,
    "scrolled": true
   },
   "outputs": [
    {
     "data": {
      "image/png": "[encoded data removed]",
      "text/plain": [
       "<matplotlib.figure.Figure at 0x7f4bceb81e10>"
      ]
     },
     "metadata": {},
     "output_type": "display_data"
    }
   ],
   "source": [
    "ax = sns.distplot(predict_df.query(\"status == 0\").probability, hist=False, label='Negatives')\n",
    "ax = sns.distplot(predict_df.query(\"status == 1\").probability, hist=False, label='Positives')"
   ]
  }
 ],
 "metadata": {
  "anaconda-cloud": {},
  "kernelspec": {
   "display_name": "Python [default]",
   "language": "python",
   "name": "python3"
  },
  "language_info": {
   "codemirror_mode": {
    "name": "ipython",
    "version": 3
   },
   "file_extension": ".py",
   "mimetype": "text/x-python",
   "name": "python",
   "nbconvert_exporter": "python",
   "pygments_lexer": "ipython3",
   "version": "3.5.2"
  }
 },
 "nbformat": 4,
 "nbformat_minor": 0
}
