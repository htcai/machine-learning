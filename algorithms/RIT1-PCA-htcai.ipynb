{
 "cells": [
  {
   "cell_type": "markdown",
   "metadata": {},
   "source": [
    "# Create a logistic regression model to predict RIT1 mutation from gene expression data in TCGA"
   ]
  },
  {
   "cell_type": "code",
   "execution_count": 1,
   "metadata": {
    "collapsed": false
   },
   "outputs": [],
   "source": [
    "import os\n",
    "import warnings\n",
    "\n",
    "import pandas as pd\n",
    "import numpy as np\n",
    "import matplotlib.pyplot as plt\n",
    "import seaborn as sns\n",
    "from sklearn import preprocessing\n",
    "from sklearn.linear_model import SGDClassifier\n",
    "from sklearn.model_selection import train_test_split, StratifiedShuffleSplit, GridSearchCV\n",
    "from sklearn.metrics import roc_auc_score, roc_curve\n",
    "from sklearn.preprocessing import StandardScaler\n",
    "from sklearn.decomposition import PCA"
   ]
  },
  {
   "cell_type": "code",
   "execution_count": 2,
   "metadata": {
    "collapsed": false
   },
   "outputs": [],
   "source": [
    "%matplotlib inline\n",
    "plt.style.use('seaborn-notebook')"
   ]
  },
  {
   "cell_type": "markdown",
   "metadata": {},
   "source": [
    "## Specify model configuration"
   ]
  },
  {
   "cell_type": "code",
   "execution_count": 3,
   "metadata": {
    "collapsed": true
   },
   "outputs": [],
   "source": [
    "# We're going to be building a 'RIT1' classifier \n",
    "GENE = '6016'# RIT1"
   ]
  },
  {
   "cell_type": "markdown",
   "metadata": {},
   "source": [
    "*Here is some [documentation](http://scikit-learn.org/stable/modules/generated/sklearn.linear_model.SGDClassifier.html) regarding the classifier and hyperparameters*\n",
    "\n",
    "*Here is some [information](https://ghr.nlm.nih.gov/gene/RIT1) about RIT1*"
   ]
  },
  {
   "cell_type": "markdown",
   "metadata": {},
   "source": [
    "## Load Data"
   ]
  },
  {
   "cell_type": "code",
   "execution_count": 4,
   "metadata": {
    "collapsed": false
   },
   "outputs": [
    {
     "name": "stdout",
     "output_type": "stream",
     "text": [
      "CPU times: user 3min 17s, sys: 10.6 s, total: 3min 27s\n",
      "Wall time: 3min 43s\n"
     ]
    }
   ],
   "source": [
    "%%time\n",
    "path = os.path.join('..', 'download', 'expression-matrix.tsv.bz2')\n",
    "X = pd.read_table(path, index_col=0)"
   ]
  },
  {
   "cell_type": "code",
   "execution_count": 5,
   "metadata": {
    "collapsed": false
   },
   "outputs": [
    {
     "name": "stdout",
     "output_type": "stream",
     "text": [
      "CPU times: user 1min 44s, sys: 7.04 s, total: 1min 51s\n",
      "Wall time: 1min 55s\n"
     ]
    }
   ],
   "source": [
    "%%time\n",
    "path = os.path.join('..', 'download', 'mutation-matrix.tsv.bz2')\n",
    "Y = pd.read_table(path, index_col=0)"
   ]
  },
  {
   "cell_type": "code",
   "execution_count": 6,
   "metadata": {
    "collapsed": false
   },
   "outputs": [],
   "source": [
    "y = Y[GENE]"
   ]
  },
  {
   "cell_type": "code",
   "execution_count": 7,
   "metadata": {
    "collapsed": false
   },
   "outputs": [
    {
     "data": {
      "text/plain": [
       "sample_id\n",
       "TCGA-02-0047-01    0\n",
       "TCGA-02-0055-01    0\n",
       "TCGA-02-2483-01    0\n",
       "TCGA-02-2485-01    0\n",
       "TCGA-02-2486-01    0\n",
       "TCGA-04-1348-01    0\n",
       "Name: 6016, dtype: int64"
      ]
     },
     "execution_count": 7,
     "metadata": {},
     "output_type": "execute_result"
    }
   ],
   "source": [
    "# The Series now holds RIT1 Mutation Status for each Sample\n",
    "y.head(6)"
   ]
  },
  {
   "cell_type": "code",
   "execution_count": 8,
   "metadata": {
    "collapsed": false
   },
   "outputs": [
    {
     "data": {
      "text/plain": [
       "0    7285\n",
       "1      21\n",
       "Name: 6016, dtype: int64"
      ]
     },
     "execution_count": 8,
     "metadata": {},
     "output_type": "execute_result"
    }
   ],
   "source": [
    "# Here is the count of tumors with RIT1\n",
    "y.value_counts()"
   ]
  },
  {
   "cell_type": "markdown",
   "metadata": {},
   "source": [
    "## Set aside 30% of the data for testing"
   ]
  },
  {
   "cell_type": "code",
   "execution_count": 9,
   "metadata": {
    "collapsed": false
   },
   "outputs": [
    {
     "data": {
      "text/plain": [
       "'Size: 20,530 features, 5,114 training samples, 2,192 testing samples'"
      ]
     },
     "execution_count": 9,
     "metadata": {},
     "output_type": "execute_result"
    }
   ],
   "source": [
    "# Typically, this can only be done where the number of mutations is large enough\n",
    "X_train, X_test, y_train, y_test = train_test_split(X, y, test_size=0.3, stratify=y, random_state=0)\n",
    "'Size: {:,} features, {:,} training samples, {:,} testing samples'.format(len(X.columns), len(X_train), len(X_test))"
   ]
  },
  {
   "cell_type": "code",
   "execution_count": 10,
   "metadata": {
    "collapsed": false
   },
   "outputs": [
    {
     "data": {
      "text/plain": [
       "0    2186\n",
       "1       6\n",
       "Name: 6016, dtype: int64"
      ]
     },
     "execution_count": 10,
     "metadata": {},
     "output_type": "execute_result"
    }
   ],
   "source": [
    "# Here is the count of tumors with RIT1 in the testing data\n",
    "y_test.value_counts()"
   ]
  },
  {
   "cell_type": "markdown",
   "metadata": {},
   "source": [
    "## Preprocessing and noise reduction"
   ]
  },
  {
   "cell_type": "code",
   "execution_count": 11,
   "metadata": {
    "collapsed": false
   },
   "outputs": [],
   "source": [
    "scale_pre = StandardScaler()\n",
    "X_train_scale = scale_pre.fit_transform(X_train)\n",
    "X_test_scale = scale_pre.transform(X_test)"
   ]
  },
  {
   "cell_type": "code",
   "execution_count": 12,
   "metadata": {
    "collapsed": false,
    "scrolled": false
   },
   "outputs": [],
   "source": [
    "n_components = 30\n",
    "pca = PCA(n_components=n_components, random_state=0)\n",
    "X_train_pca = pca.fit_transform(X_train_scale)\n",
    "X_test_pca = pca.transform(X_test_scale)"
   ]
  },
  {
   "cell_type": "code",
   "execution_count": 13,
   "metadata": {
    "collapsed": false
   },
   "outputs": [
    {
     "name": "stdout",
     "output_type": "stream",
     "text": [
      "0.5824\n"
     ]
    }
   ],
   "source": [
    "# Percentage of preserved variance\n",
    "print('{:.4}'.format(sum(pca.explained_variance_ratio_)))"
   ]
  },
  {
   "cell_type": "code",
   "execution_count": 14,
   "metadata": {
    "collapsed": false
   },
   "outputs": [],
   "source": [
    "scale_post = StandardScaler()\n",
    "X_train_scale = scale_post.fit_transform(X_train_pca)\n",
    "X_test_scale = scale_post.transform(X_test_pca)"
   ]
  },
  {
   "cell_type": "markdown",
   "metadata": {},
   "source": [
    "## Parameters and Classifier Fitting"
   ]
  },
  {
   "cell_type": "code",
   "execution_count": 15,
   "metadata": {
    "collapsed": false
   },
   "outputs": [],
   "source": [
    "param_grid = {\n",
    "    'alpha': [2**x for x in range(-20, 60)],\n",
    "    'l1_ratio': [0]\n",
    "}"
   ]
  },
  {
   "cell_type": "code",
   "execution_count": 16,
   "metadata": {
    "collapsed": true
   },
   "outputs": [],
   "source": [
    "sss = StratifiedShuffleSplit(n_splits=150, test_size=0.1, random_state=0)\n",
    "clf = SGDClassifier(random_state=0, class_weight='balanced', loss='log', penalty='elasticnet')\n",
    "cv = GridSearchCV(estimator=clf, param_grid=param_grid, n_jobs=-1, scoring='roc_auc', cv=sss)"
   ]
  },
  {
   "cell_type": "code",
   "execution_count": 17,
   "metadata": {
    "collapsed": false
   },
   "outputs": [
    {
     "name": "stdout",
     "output_type": "stream",
     "text": [
      "CPU times: user 1min 23s, sys: 4.39 s, total: 1min 28s\n",
      "Wall time: 2min 31s\n"
     ]
    },
    {
     "data": {
      "text/plain": [
       "GridSearchCV(cv=StratifiedShuffleSplit(n_splits=150, random_state=0, test_size=0.1,\n",
       "            train_size=None),\n",
       "       error_score='raise',\n",
       "       estimator=SGDClassifier(alpha=0.0001, average=False, class_weight='balanced',\n",
       "       epsilon=0.1, eta0=0.0, fit_intercept=True, l1_ratio=0.15,\n",
       "       learning_rate='optimal', loss='log', n_iter=5, n_jobs=1,\n",
       "       penalty='elasticnet', power_t=0.5, random_state=0, shuffle=True,\n",
       "       verbose=0, warm_start=False),\n",
       "       fit_params={}, iid=True, n_jobs=-1,\n",
       "       param_grid={'l1_ratio': [0], 'alpha': [9.5367431640625e-07, 1.9073486328125e-06, 3.814697265625e-06, 7.62939453125e-06, 1.52587890625e-05, 3.0517578125e-05, 6.103515625e-05, 0.0001220703125, 0.000244140625, 0.00048828125, 0.0009765625, 0.001953125, 0.00390625, 0.0078125, 0.015625, 0.03125, 0.0625, 0..., 36028797018963968, 72057594037927936, 144115188075855872, 288230376151711744, 576460752303423488]},\n",
       "       pre_dispatch='2*n_jobs', refit=True, return_train_score=True,\n",
       "       scoring='roc_auc', verbose=0)"
      ]
     },
     "execution_count": 17,
     "metadata": {},
     "output_type": "execute_result"
    }
   ],
   "source": [
    "%%time\n",
    "cv.fit(X = X_train_scale, y=y_train)"
   ]
  },
  {
   "cell_type": "code",
   "execution_count": 18,
   "metadata": {
    "collapsed": false
   },
   "outputs": [
    {
     "name": "stdout",
     "output_type": "stream",
     "text": [
      "81.437%\n"
     ]
    },
    {
     "data": {
      "text/plain": [
       "{'alpha': 2048, 'l1_ratio': 0}"
      ]
     },
     "execution_count": 18,
     "metadata": {},
     "output_type": "execute_result"
    }
   ],
   "source": [
    "# Best Params\n",
    "print('{:.3%}'.format(cv.best_score_))\n",
    "\n",
    "# Best Params\n",
    "cv.best_params_"
   ]
  },
  {
   "cell_type": "markdown",
   "metadata": {},
   "source": [
    "## Visualize hyperparameters performance"
   ]
  },
  {
   "cell_type": "code",
   "execution_count": 19,
   "metadata": {
    "collapsed": false,
    "scrolled": true
   },
   "outputs": [
    {
     "data": {
      "text/html": [
       "<div>\n",
       "<table border=\"1\" class=\"dataframe\">\n",
       "  <thead>\n",
       "    <tr style=\"text-align: right;\">\n",
       "      <th></th>\n",
       "      <th>mean_fit_time</th>\n",
       "      <th>mean_score_time</th>\n",
       "      <th>mean_test_score</th>\n",
       "      <th>mean_train_score</th>\n",
       "      <th>param_alpha</th>\n",
       "      <th>param_l1_ratio</th>\n",
       "      <th>params</th>\n",
       "      <th>rank_test_score</th>\n",
       "      <th>split0_test_score</th>\n",
       "      <th>split0_train_score</th>\n",
       "      <th>...</th>\n",
       "      <th>split99_test_score</th>\n",
       "      <th>split99_train_score</th>\n",
       "      <th>split9_test_score</th>\n",
       "      <th>split9_train_score</th>\n",
       "      <th>std_fit_time</th>\n",
       "      <th>std_score_time</th>\n",
       "      <th>std_test_score</th>\n",
       "      <th>std_train_score</th>\n",
       "      <th>alpha</th>\n",
       "      <th>l1_ratio</th>\n",
       "    </tr>\n",
       "  </thead>\n",
       "  <tbody>\n",
       "    <tr>\n",
       "      <th>0</th>\n",
       "      <td>0.022123</td>\n",
       "      <td>0.003078</td>\n",
       "      <td>0.708732</td>\n",
       "      <td>0.866968</td>\n",
       "      <td>9.53674e-07</td>\n",
       "      <td>0</td>\n",
       "      <td>{'l1_ratio': 0, 'alpha': 9.5367431640625e-07}</td>\n",
       "      <td>68</td>\n",
       "      <td>0.844118</td>\n",
       "      <td>0.883367</td>\n",
       "      <td>...</td>\n",
       "      <td>0.361765</td>\n",
       "      <td>0.710428</td>\n",
       "      <td>0.486275</td>\n",
       "      <td>0.907689</td>\n",
       "      <td>0.005395</td>\n",
       "      <td>0.003601</td>\n",
       "      <td>0.200545</td>\n",
       "      <td>0.047736</td>\n",
       "      <td>9.536743e-07</td>\n",
       "      <td>0</td>\n",
       "    </tr>\n",
       "    <tr>\n",
       "      <th>1</th>\n",
       "      <td>0.024843</td>\n",
       "      <td>0.003216</td>\n",
       "      <td>0.706588</td>\n",
       "      <td>0.868980</td>\n",
       "      <td>1.90735e-06</td>\n",
       "      <td>0</td>\n",
       "      <td>{'l1_ratio': 0, 'alpha': 1.9073486328125e-06}</td>\n",
       "      <td>71</td>\n",
       "      <td>0.808824</td>\n",
       "      <td>0.881171</td>\n",
       "      <td>...</td>\n",
       "      <td>0.365686</td>\n",
       "      <td>0.715809</td>\n",
       "      <td>0.483333</td>\n",
       "      <td>0.910170</td>\n",
       "      <td>0.013813</td>\n",
       "      <td>0.004592</td>\n",
       "      <td>0.204591</td>\n",
       "      <td>0.048656</td>\n",
       "      <td>1.907349e-06</td>\n",
       "      <td>0</td>\n",
       "    </tr>\n",
       "  </tbody>\n",
       "</table>\n",
       "<p>2 rows × 314 columns</p>\n",
       "</div>"
      ],
      "text/plain": [
       "   mean_fit_time  mean_score_time  mean_test_score  mean_train_score  \\\n",
       "0       0.022123         0.003078         0.708732          0.866968   \n",
       "1       0.024843         0.003216         0.706588          0.868980   \n",
       "\n",
       "   param_alpha param_l1_ratio                                         params  \\\n",
       "0  9.53674e-07              0  {'l1_ratio': 0, 'alpha': 9.5367431640625e-07}   \n",
       "1  1.90735e-06              0  {'l1_ratio': 0, 'alpha': 1.9073486328125e-06}   \n",
       "\n",
       "   rank_test_score  split0_test_score  split0_train_score    ...     \\\n",
       "0               68           0.844118            0.883367    ...      \n",
       "1               71           0.808824            0.881171    ...      \n",
       "\n",
       "   split99_test_score  split99_train_score  split9_test_score  \\\n",
       "0            0.361765             0.710428           0.486275   \n",
       "1            0.365686             0.715809           0.483333   \n",
       "\n",
       "   split9_train_score  std_fit_time  std_score_time  std_test_score  \\\n",
       "0            0.907689      0.005395        0.003601        0.200545   \n",
       "1            0.910170      0.013813        0.004592        0.204591   \n",
       "\n",
       "   std_train_score         alpha  l1_ratio  \n",
       "0         0.047736  9.536743e-07         0  \n",
       "1         0.048656  1.907349e-06         0  \n",
       "\n",
       "[2 rows x 314 columns]"
      ]
     },
     "execution_count": 19,
     "metadata": {},
     "output_type": "execute_result"
    }
   ],
   "source": [
    "cv_result_df = pd.concat([\n",
    "    pd.DataFrame(cv.cv_results_),\n",
    "    pd.DataFrame.from_records(cv.cv_results_['params']),\n",
    "], axis='columns')\n",
    "cv_result_df.head(2)"
   ]
  },
  {
   "cell_type": "code",
   "execution_count": 20,
   "metadata": {
    "collapsed": false,
    "scrolled": true
   },
   "outputs": [
    {
     "data": {
      "image/png": "[encoded data removed]",
      "text/plain": [
       "<matplotlib.figure.Figure at 0x104749278>"
      ]
     },
     "metadata": {},
     "output_type": "display_data"
    }
   ],
   "source": [
    "# Cross-validated performance heatmap\n",
    "cv_score_mat = pd.pivot_table(cv_result_df, values='mean_test_score', index='l1_ratio', columns='alpha')\n",
    "fig, ax = plt.subplots(figsize=(15,2))\n",
    "\n",
    "xticks = ['2^'+str(x) for x in range(-20, 60)]\n",
    "keptticks = xticks[::int(len(xticks)/10)]\n",
    "xticks = ['' for y in xticks]\n",
    "xticks[::int(len(xticks)/10)] = keptticks\n",
    "\n",
    "ax = sns.heatmap(cv_score_mat, annot=False, fmt='.1%', xticklabels=xticks)\n",
    "ax.set_xlabel('Regularization strength multiplier (alpha)')\n",
    "ax.set_ylabel('Elastic net mixing parameter (l1_ratio)');"
   ]
  },
  {
   "cell_type": "markdown",
   "metadata": {},
   "source": [
    "## Use Optimal Hyperparameters to Output ROC Curve"
   ]
  },
  {
   "cell_type": "code",
   "execution_count": 21,
   "metadata": {
    "collapsed": false
   },
   "outputs": [],
   "source": [
    "y_pred_train = cv.decision_function(X_train_scale)\n",
    "y_pred_test = cv.decision_function(X_test_scale)\n",
    "\n",
    "def get_threshold_metrics(y_true, y_pred):\n",
    "    roc_columns = ['fpr', 'tpr', 'threshold']\n",
    "    roc_items = zip(roc_columns, roc_curve(y_true, y_pred))\n",
    "    roc_df = pd.DataFrame.from_items(roc_items)\n",
    "    auroc = roc_auc_score(y_true, y_pred)\n",
    "    return {'auroc': auroc, 'roc_df': roc_df}\n",
    "\n",
    "metrics_train = get_threshold_metrics(y_train, y_pred_train)\n",
    "metrics_test = get_threshold_metrics(y_test, y_pred_test)"
   ]
  },
  {
   "cell_type": "code",
   "execution_count": 22,
   "metadata": {
    "collapsed": false,
    "scrolled": true
   },
   "outputs": [
    {
     "data": {
      "image/png": "[encoded data removed]",
      "text/plain": [
       "<matplotlib.figure.Figure at 0x149c435f8>"
      ]
     },
     "metadata": {},
     "output_type": "display_data"
    }
   ],
   "source": [
    "# Plot ROC\n",
    "plt.figure()\n",
    "for label, metrics in ('Training', metrics_train), ('Testing', metrics_test):\n",
    "    roc_df = metrics['roc_df']\n",
    "    plt.plot(roc_df.fpr, roc_df.tpr,\n",
    "        label='{} (AUROC = {:.1%})'.format(label, metrics['auroc']))\n",
    "plt.xlim([0.0, 1.0])\n",
    "plt.ylim([0.0, 1.05])\n",
    "plt.xlabel('False Positive Rate')\n",
    "plt.ylabel('True Positive Rate')\n",
    "plt.title('Predicting RIT1 mutation from gene expression (ROC curves)')\n",
    "plt.legend(loc='lower right');"
   ]
  },
  {
   "cell_type": "markdown",
   "metadata": {},
   "source": [
    "## Investigate the predictions"
   ]
  },
  {
   "cell_type": "code",
   "execution_count": 23,
   "metadata": {
    "collapsed": false,
    "scrolled": true
   },
   "outputs": [],
   "source": [
    "X_transformed = scale_post.transform(pca.transform(scale_pre.transform(X)))"
   ]
  },
  {
   "cell_type": "code",
   "execution_count": 24,
   "metadata": {
    "collapsed": false,
    "scrolled": false
   },
   "outputs": [],
   "source": [
    "predict_df = pd.DataFrame.from_items([\n",
    "    ('sample_id', X.index),\n",
    "    ('testing', X.index.isin(X_test.index).astype(int)),\n",
    "    ('status', y),\n",
    "    ('decision_function', cv.decision_function(X_transformed)),\n",
    "    ('probability', cv.predict_proba(X_transformed)[:, 1]),\n",
    "])\n",
    "predict_df['probability_str'] = predict_df['probability'].apply('{:.1%}'.format)"
   ]
  },
  {
   "cell_type": "code",
   "execution_count": 25,
   "metadata": {
    "collapsed": false,
    "scrolled": true
   },
   "outputs": [
    {
     "data": {
      "text/html": [
       "<div>\n",
       "<table border=\"1\" class=\"dataframe\">\n",
       "  <thead>\n",
       "    <tr style=\"text-align: right;\">\n",
       "      <th></th>\n",
       "      <th>sample_id</th>\n",
       "      <th>testing</th>\n",
       "      <th>status</th>\n",
       "      <th>decision_function</th>\n",
       "      <th>probability</th>\n",
       "      <th>probability_str</th>\n",
       "    </tr>\n",
       "    <tr>\n",
       "      <th>sample_id</th>\n",
       "      <th></th>\n",
       "      <th></th>\n",
       "      <th></th>\n",
       "      <th></th>\n",
       "      <th></th>\n",
       "      <th></th>\n",
       "    </tr>\n",
       "  </thead>\n",
       "  <tbody>\n",
       "    <tr>\n",
       "      <th>TCGA-C5-A2LS-01</th>\n",
       "      <td>TCGA-C5-A2LS-01</td>\n",
       "      <td>0</td>\n",
       "      <td>0</td>\n",
       "      <td>-0.035477</td>\n",
       "      <td>0.491132</td>\n",
       "      <td>49.1%</td>\n",
       "    </tr>\n",
       "    <tr>\n",
       "      <th>TCGA-55-8506-01</th>\n",
       "      <td>TCGA-55-8506-01</td>\n",
       "      <td>1</td>\n",
       "      <td>0</td>\n",
       "      <td>-0.035486</td>\n",
       "      <td>0.491129</td>\n",
       "      <td>49.1%</td>\n",
       "    </tr>\n",
       "    <tr>\n",
       "      <th>TCGA-80-5608-01</th>\n",
       "      <td>TCGA-80-5608-01</td>\n",
       "      <td>0</td>\n",
       "      <td>0</td>\n",
       "      <td>-0.035534</td>\n",
       "      <td>0.491117</td>\n",
       "      <td>49.1%</td>\n",
       "    </tr>\n",
       "    <tr>\n",
       "      <th>TCGA-L9-A443-01</th>\n",
       "      <td>TCGA-L9-A443-01</td>\n",
       "      <td>0</td>\n",
       "      <td>0</td>\n",
       "      <td>-0.035545</td>\n",
       "      <td>0.491115</td>\n",
       "      <td>49.1%</td>\n",
       "    </tr>\n",
       "    <tr>\n",
       "      <th>TCGA-78-7535-01</th>\n",
       "      <td>TCGA-78-7535-01</td>\n",
       "      <td>0</td>\n",
       "      <td>0</td>\n",
       "      <td>-0.035552</td>\n",
       "      <td>0.491113</td>\n",
       "      <td>49.1%</td>\n",
       "    </tr>\n",
       "    <tr>\n",
       "      <th>TCGA-64-1680-01</th>\n",
       "      <td>TCGA-64-1680-01</td>\n",
       "      <td>0</td>\n",
       "      <td>0</td>\n",
       "      <td>-0.035568</td>\n",
       "      <td>0.491109</td>\n",
       "      <td>49.1%</td>\n",
       "    </tr>\n",
       "    <tr>\n",
       "      <th>TCGA-91-A4BD-01</th>\n",
       "      <td>TCGA-91-A4BD-01</td>\n",
       "      <td>1</td>\n",
       "      <td>0</td>\n",
       "      <td>-0.035569</td>\n",
       "      <td>0.491109</td>\n",
       "      <td>49.1%</td>\n",
       "    </tr>\n",
       "    <tr>\n",
       "      <th>TCGA-05-4244-01</th>\n",
       "      <td>TCGA-05-4244-01</td>\n",
       "      <td>0</td>\n",
       "      <td>0</td>\n",
       "      <td>-0.035575</td>\n",
       "      <td>0.491107</td>\n",
       "      <td>49.1%</td>\n",
       "    </tr>\n",
       "    <tr>\n",
       "      <th>TCGA-44-7659-01</th>\n",
       "      <td>TCGA-44-7659-01</td>\n",
       "      <td>0</td>\n",
       "      <td>0</td>\n",
       "      <td>-0.035577</td>\n",
       "      <td>0.491107</td>\n",
       "      <td>49.1%</td>\n",
       "    </tr>\n",
       "    <tr>\n",
       "      <th>TCGA-IR-A3LI-01</th>\n",
       "      <td>TCGA-IR-A3LI-01</td>\n",
       "      <td>0</td>\n",
       "      <td>0</td>\n",
       "      <td>-0.035586</td>\n",
       "      <td>0.491104</td>\n",
       "      <td>49.1%</td>\n",
       "    </tr>\n",
       "  </tbody>\n",
       "</table>\n",
       "</div>"
      ],
      "text/plain": [
       "                       sample_id  testing  status  decision_function  \\\n",
       "sample_id                                                              \n",
       "TCGA-C5-A2LS-01  TCGA-C5-A2LS-01        0       0          -0.035477   \n",
       "TCGA-55-8506-01  TCGA-55-8506-01        1       0          -0.035486   \n",
       "TCGA-80-5608-01  TCGA-80-5608-01        0       0          -0.035534   \n",
       "TCGA-L9-A443-01  TCGA-L9-A443-01        0       0          -0.035545   \n",
       "TCGA-78-7535-01  TCGA-78-7535-01        0       0          -0.035552   \n",
       "TCGA-64-1680-01  TCGA-64-1680-01        0       0          -0.035568   \n",
       "TCGA-91-A4BD-01  TCGA-91-A4BD-01        1       0          -0.035569   \n",
       "TCGA-05-4244-01  TCGA-05-4244-01        0       0          -0.035575   \n",
       "TCGA-44-7659-01  TCGA-44-7659-01        0       0          -0.035577   \n",
       "TCGA-IR-A3LI-01  TCGA-IR-A3LI-01        0       0          -0.035586   \n",
       "\n",
       "                 probability probability_str  \n",
       "sample_id                                     \n",
       "TCGA-C5-A2LS-01     0.491132           49.1%  \n",
       "TCGA-55-8506-01     0.491129           49.1%  \n",
       "TCGA-80-5608-01     0.491117           49.1%  \n",
       "TCGA-L9-A443-01     0.491115           49.1%  \n",
       "TCGA-78-7535-01     0.491113           49.1%  \n",
       "TCGA-64-1680-01     0.491109           49.1%  \n",
       "TCGA-91-A4BD-01     0.491109           49.1%  \n",
       "TCGA-05-4244-01     0.491107           49.1%  \n",
       "TCGA-44-7659-01     0.491107           49.1%  \n",
       "TCGA-IR-A3LI-01     0.491104           49.1%  "
      ]
     },
     "execution_count": 25,
     "metadata": {},
     "output_type": "execute_result"
    }
   ],
   "source": [
    "# Top predictions amongst negatives (potential hidden responders)\n",
    "predict_df.sort_values('decision_function', ascending=False).query(\"status == 0\").head(10)"
   ]
  },
  {
   "cell_type": "code",
   "execution_count": 26,
   "metadata": {
    "collapsed": false,
    "scrolled": true
   },
   "outputs": [
    {
     "data": {
      "image/png": "[encoded data removed]",
      "text/plain": [
       "<matplotlib.figure.Figure at 0x116065240>"
      ]
     },
     "metadata": {},
     "output_type": "display_data"
    }
   ],
   "source": [
    "# Ignore numpy warning caused by seaborn\n",
    "warnings.filterwarnings('ignore', 'using a non-integer number instead of an integer')\n",
    "\n",
    "ax = sns.distplot(predict_df.query(\"status == 0\").decision_function, hist=False, label='Negatives')\n",
    "ax = sns.distplot(predict_df.query(\"status == 1\").decision_function, hist=False, label='Positives')"
   ]
  },
  {
   "cell_type": "code",
   "execution_count": 27,
   "metadata": {
    "collapsed": false,
    "scrolled": true
   },
   "outputs": [
    {
     "data": {
      "image/png": "[encoded data removed]",
      "text/plain": [
       "<matplotlib.figure.Figure at 0x11bdb15c0>"
      ]
     },
     "metadata": {},
     "output_type": "display_data"
    }
   ],
   "source": [
    "ax = sns.distplot(predict_df.query(\"status == 0\").probability, hist=False, label='Negatives')\n",
    "ax = sns.distplot(predict_df.query(\"status == 1\").probability, hist=False, label='Positives')"
   ]
  }
 ],
 "metadata": {
  "anaconda-cloud": {},
  "kernelspec": {
   "display_name": "Python [default]",
   "language": "python",
   "name": "python3"
  },
  "language_info": {
   "codemirror_mode": {
    "name": "ipython",
    "version": 3
   },
   "file_extension": ".py",
   "mimetype": "text/x-python",
   "name": "python",
   "nbconvert_exporter": "python",
   "pygments_lexer": "ipython3",
   "version": "3.5.2"
  }
 },
 "nbformat": 4,
 "nbformat_minor": 0
}
