{
 "cells": [
  {
   "cell_type": "markdown",
   "metadata": {},
   "source": [
    "# Create a logistic regression model to predict RIT1 mutation from gene expression data in TCGA"
   ]
  },
  {
   "cell_type": "code",
   "execution_count": 1,
   "metadata": {
    "collapsed": false
   },
   "outputs": [],
   "source": [
    "import os\n",
    "import warnings\n",
    "\n",
    "import pandas as pd\n",
    "import numpy as np\n",
    "import matplotlib.pyplot as plt\n",
    "import seaborn as sns\n",
    "from sklearn import preprocessing\n",
    "from sklearn.linear_model import SGDClassifier\n",
    "from sklearn.model_selection import train_test_split, StratifiedShuffleSplit, GridSearchCV\n",
    "from sklearn.metrics import roc_auc_score, roc_curve\n",
    "from sklearn.preprocessing import StandardScaler\n",
    "from sklearn.decomposition import PCA"
   ]
  },
  {
   "cell_type": "code",
   "execution_count": 2,
   "metadata": {
    "collapsed": false
   },
   "outputs": [],
   "source": [
    "%matplotlib inline\n",
    "plt.style.use('seaborn-notebook')"
   ]
  },
  {
   "cell_type": "markdown",
   "metadata": {},
   "source": [
    "## Specify model configuration"
   ]
  },
  {
   "cell_type": "code",
   "execution_count": 3,
   "metadata": {
    "collapsed": true
   },
   "outputs": [],
   "source": [
    "# We're going to be building a 'RIT1' classifier \n",
    "GENE = '6016'# RIT1"
   ]
  },
  {
   "cell_type": "markdown",
   "metadata": {},
   "source": [
    "*Here is some [documentation](http://scikit-learn.org/stable/modules/generated/sklearn.linear_model.SGDClassifier.html) regarding the classifier and hyperparameters*\n",
    "\n",
    "*Here is some [information](https://ghr.nlm.nih.gov/gene/RIT1) about RIT1*"
   ]
  },
  {
   "cell_type": "markdown",
   "metadata": {},
   "source": [
    "## Load Data"
   ]
  },
  {
   "cell_type": "code",
   "execution_count": 4,
   "metadata": {
    "collapsed": false
   },
   "outputs": [
    {
     "name": "stdout",
     "output_type": "stream",
     "text": [
      "CPU times: user 1min 14s, sys: 552 ms, total: 1min 14s\n",
      "Wall time: 1min 14s\n"
     ]
    }
   ],
   "source": [
    "%%time\n",
    "path = os.path.join('..', 'download', 'expression-matrix.tsv.bz2')\n",
    "X = pd.read_table(path, index_col=0)"
   ]
  },
  {
   "cell_type": "code",
   "execution_count": 5,
   "metadata": {
    "collapsed": false
   },
   "outputs": [
    {
     "name": "stdout",
     "output_type": "stream",
     "text": [
      "CPU times: user 41 s, sys: 424 ms, total: 41.4 s\n",
      "Wall time: 41.4 s\n"
     ]
    }
   ],
   "source": [
    "%%time\n",
    "path = os.path.join('..', 'download', 'mutation-matrix.tsv.bz2')\n",
    "Y = pd.read_table(path, index_col=0)"
   ]
  },
  {
   "cell_type": "code",
   "execution_count": 6,
   "metadata": {
    "collapsed": false
   },
   "outputs": [],
   "source": [
    "y = Y[GENE]"
   ]
  },
  {
   "cell_type": "code",
   "execution_count": 7,
   "metadata": {
    "collapsed": false
   },
   "outputs": [
    {
     "data": {
      "text/plain": [
       "sample_id\n",
       "TCGA-02-0047-01    0\n",
       "TCGA-02-0055-01    0\n",
       "TCGA-02-2483-01    0\n",
       "TCGA-02-2485-01    0\n",
       "TCGA-02-2486-01    0\n",
       "TCGA-04-1348-01    0\n",
       "Name: 6016, dtype: int64"
      ]
     },
     "execution_count": 7,
     "metadata": {},
     "output_type": "execute_result"
    }
   ],
   "source": [
    "# The Series now holds RIT1 Mutation Status for each Sample\n",
    "y.head(6)"
   ]
  },
  {
   "cell_type": "code",
   "execution_count": 8,
   "metadata": {
    "collapsed": false
   },
   "outputs": [
    {
     "data": {
      "text/plain": [
       "0    7285\n",
       "1      21\n",
       "Name: 6016, dtype: int64"
      ]
     },
     "execution_count": 8,
     "metadata": {},
     "output_type": "execute_result"
    }
   ],
   "source": [
    "# Here is the count of tumors with RIT1\n",
    "y.value_counts()"
   ]
  },
  {
   "cell_type": "markdown",
   "metadata": {},
   "source": [
    "## Set aside 30% of the data for testing"
   ]
  },
  {
   "cell_type": "code",
   "execution_count": 9,
   "metadata": {
    "collapsed": false
   },
   "outputs": [
    {
     "data": {
      "text/plain": [
       "'Size: 20,530 features, 5,114 training samples, 2,192 testing samples'"
      ]
     },
     "execution_count": 9,
     "metadata": {},
     "output_type": "execute_result"
    }
   ],
   "source": [
    "# Typically, this can only be done where the number of mutations is large enough\n",
    "X_train, X_test, y_train, y_test = train_test_split(X, y, test_size=0.3, stratify=y, random_state=0)\n",
    "'Size: {:,} features, {:,} training samples, {:,} testing samples'.format(len(X.columns), len(X_train), len(X_test))"
   ]
  },
  {
   "cell_type": "code",
   "execution_count": 10,
   "metadata": {
    "collapsed": false
   },
   "outputs": [
    {
     "data": {
      "text/plain": [
       "0    2186\n",
       "1       6\n",
       "Name: 6016, dtype: int64"
      ]
     },
     "execution_count": 10,
     "metadata": {},
     "output_type": "execute_result"
    }
   ],
   "source": [
    "# Here is the count of tumors with RIT1 in the testing data\n",
    "y_test.value_counts()"
   ]
  },
  {
   "cell_type": "markdown",
   "metadata": {},
   "source": [
    "## Preprocessing and noise reduction"
   ]
  },
  {
   "cell_type": "code",
   "execution_count": 11,
   "metadata": {
    "collapsed": false
   },
   "outputs": [],
   "source": [
    "scale_pre = StandardScaler()\n",
    "X_train_scale = scale_pre.fit_transform(X_train)\n",
    "X_test_scale = scale_pre.transform(X_test)"
   ]
  },
  {
   "cell_type": "code",
   "execution_count": 12,
   "metadata": {
    "collapsed": false,
    "scrolled": false
   },
   "outputs": [],
   "source": [
    "n_components = 35\n",
    "pca = PCA(n_components=n_components, random_state=0)\n",
    "X_train_pca = pca.fit_transform(X_train_scale)\n",
    "X_test_pca = pca.transform(X_test_scale)"
   ]
  },
  {
   "cell_type": "code",
   "execution_count": 13,
   "metadata": {
    "collapsed": false
   },
   "outputs": [
    {
     "name": "stdout",
     "output_type": "stream",
     "text": [
      "0.5996\n"
     ]
    }
   ],
   "source": [
    "# Percentage of preserved variance\n",
    "print('{:.4}'.format(sum(pca.explained_variance_ratio_)))"
   ]
  },
  {
   "cell_type": "code",
   "execution_count": 14,
   "metadata": {
    "collapsed": false
   },
   "outputs": [],
   "source": [
    "scale_post = StandardScaler()\n",
    "X_train_scale = scale_post.fit_transform(X_train_pca)\n",
    "X_test_scale = scale_post.transform(X_test_pca)"
   ]
  },
  {
   "cell_type": "markdown",
   "metadata": {},
   "source": [
    "## Parameters and Classifier Fitting"
   ]
  },
  {
   "cell_type": "code",
   "execution_count": 15,
   "metadata": {
    "collapsed": false
   },
   "outputs": [],
   "source": [
    "param_grid = {\n",
    "    'alpha': [2**x for x in range(-20, 60)],\n",
    "    'l1_ratio': [0]\n",
    "}"
   ]
  },
  {
   "cell_type": "code",
   "execution_count": 16,
   "metadata": {
    "collapsed": true
   },
   "outputs": [],
   "source": [
    "sss = StratifiedShuffleSplit(n_splits=10, test_size=0.3, random_state=0)\n",
    "cv_folds = sss.split(X_train_scale, y_train)\n",
    "cv_folds = [[t, c] for t, c in cv_folds]"
   ]
  },
  {
   "cell_type": "code",
   "execution_count": 17,
   "metadata": {
    "collapsed": false
   },
   "outputs": [
    {
     "name": "stdout",
     "output_type": "stream",
     "text": [
      "CPU times: user 840 ms, sys: 272 ms, total: 1.11 s\n",
      "Wall time: 4.2 s\n"
     ]
    }
   ],
   "source": [
    "%%time\n",
    "clf = SGDClassifier(random_state=0, class_weight='balanced', loss='log', penalty='elasticnet')\n",
    "cv = GridSearchCV(estimator=clf, param_grid=param_grid, n_jobs=-1, scoring='roc_auc')\n",
    "cv.fit(X = X_train_scale, y=y_train)"
   ]
  },
  {
   "cell_type": "code",
   "execution_count": 18,
   "metadata": {
    "collapsed": false
   },
   "outputs": [
    {
     "name": "stdout",
     "output_type": "stream",
     "text": [
      "82.601%\n"
     ]
    },
    {
     "data": {
      "text/plain": [
       "{'alpha': 0.5, 'l1_ratio': 0}"
      ]
     },
     "execution_count": 18,
     "metadata": {},
     "output_type": "execute_result"
    }
   ],
   "source": [
    "# Best Params\n",
    "print('{:.3%}'.format(cv.best_score_))\n",
    "\n",
    "# Best Params\n",
    "cv.best_params_"
   ]
  },
  {
   "cell_type": "markdown",
   "metadata": {},
   "source": [
    "## Visualize hyperparameters performance"
   ]
  },
  {
   "cell_type": "code",
   "execution_count": 19,
   "metadata": {
    "collapsed": false,
    "scrolled": true
   },
   "outputs": [
    {
     "data": {
      "text/html": [
       "<div>\n",
       "<table border=\"1\" class=\"dataframe\">\n",
       "  <thead>\n",
       "    <tr style=\"text-align: right;\">\n",
       "      <th></th>\n",
       "      <th>mean_fit_time</th>\n",
       "      <th>mean_score_time</th>\n",
       "      <th>mean_test_score</th>\n",
       "      <th>mean_train_score</th>\n",
       "      <th>param_alpha</th>\n",
       "      <th>param_l1_ratio</th>\n",
       "      <th>params</th>\n",
       "      <th>rank_test_score</th>\n",
       "      <th>split0_test_score</th>\n",
       "      <th>split0_train_score</th>\n",
       "      <th>split1_test_score</th>\n",
       "      <th>split1_train_score</th>\n",
       "      <th>split2_test_score</th>\n",
       "      <th>split2_train_score</th>\n",
       "      <th>std_fit_time</th>\n",
       "      <th>std_score_time</th>\n",
       "      <th>std_test_score</th>\n",
       "      <th>std_train_score</th>\n",
       "      <th>alpha</th>\n",
       "      <th>l1_ratio</th>\n",
       "    </tr>\n",
       "  </thead>\n",
       "  <tbody>\n",
       "    <tr>\n",
       "      <th>0</th>\n",
       "      <td>0.015408</td>\n",
       "      <td>0.081002</td>\n",
       "      <td>0.774034</td>\n",
       "      <td>0.907252</td>\n",
       "      <td>9.53674e-07</td>\n",
       "      <td>0</td>\n",
       "      <td>{'alpha': 9.5367431640625e-07, 'l1_ratio': 0}</td>\n",
       "      <td>62</td>\n",
       "      <td>0.731412</td>\n",
       "      <td>0.840541</td>\n",
       "      <td>0.818588</td>\n",
       "      <td>0.929921</td>\n",
       "      <td>0.772101</td>\n",
       "      <td>0.951294</td>\n",
       "      <td>0.003429</td>\n",
       "      <td>0.023156</td>\n",
       "      <td>0.035619</td>\n",
       "      <td>0.047972</td>\n",
       "      <td>9.536743e-07</td>\n",
       "      <td>0</td>\n",
       "    </tr>\n",
       "    <tr>\n",
       "      <th>1</th>\n",
       "      <td>0.013175</td>\n",
       "      <td>0.073070</td>\n",
       "      <td>0.773956</td>\n",
       "      <td>0.907615</td>\n",
       "      <td>1.90735e-06</td>\n",
       "      <td>0</td>\n",
       "      <td>{'alpha': 1.9073486328125e-06, 'l1_ratio': 0}</td>\n",
       "      <td>63</td>\n",
       "      <td>0.732706</td>\n",
       "      <td>0.840688</td>\n",
       "      <td>0.817176</td>\n",
       "      <td>0.930421</td>\n",
       "      <td>0.771984</td>\n",
       "      <td>0.951735</td>\n",
       "      <td>0.001200</td>\n",
       "      <td>0.008544</td>\n",
       "      <td>0.034517</td>\n",
       "      <td>0.048117</td>\n",
       "      <td>1.907349e-06</td>\n",
       "      <td>0</td>\n",
       "    </tr>\n",
       "  </tbody>\n",
       "</table>\n",
       "</div>"
      ],
      "text/plain": [
       "   mean_fit_time  mean_score_time  mean_test_score  mean_train_score  \\\n",
       "0       0.015408         0.081002         0.774034          0.907252   \n",
       "1       0.013175         0.073070         0.773956          0.907615   \n",
       "\n",
       "   param_alpha param_l1_ratio                                         params  \\\n",
       "0  9.53674e-07              0  {'alpha': 9.5367431640625e-07, 'l1_ratio': 0}   \n",
       "1  1.90735e-06              0  {'alpha': 1.9073486328125e-06, 'l1_ratio': 0}   \n",
       "\n",
       "   rank_test_score  split0_test_score  split0_train_score  split1_test_score  \\\n",
       "0               62           0.731412            0.840541           0.818588   \n",
       "1               63           0.732706            0.840688           0.817176   \n",
       "\n",
       "   split1_train_score  split2_test_score  split2_train_score  std_fit_time  \\\n",
       "0            0.929921           0.772101            0.951294      0.003429   \n",
       "1            0.930421           0.771984            0.951735      0.001200   \n",
       "\n",
       "   std_score_time  std_test_score  std_train_score         alpha  l1_ratio  \n",
       "0        0.023156        0.035619         0.047972  9.536743e-07         0  \n",
       "1        0.008544        0.034517         0.048117  1.907349e-06         0  "
      ]
     },
     "execution_count": 19,
     "metadata": {},
     "output_type": "execute_result"
    }
   ],
   "source": [
    "cv_result_df = pd.concat([\n",
    "    pd.DataFrame(cv.cv_results_),\n",
    "    pd.DataFrame.from_records(cv.cv_results_['params']),\n",
    "], axis='columns')\n",
    "cv_result_df.head(2)"
   ]
  },
  {
   "cell_type": "code",
   "execution_count": 20,
   "metadata": {
    "collapsed": false,
    "scrolled": true
   },
   "outputs": [
    {
     "data": {
      "image/png": "[encoded data removed]",
      "text/plain": [
       "<matplotlib.figure.Figure at 0x7f043bfa62e8>"
      ]
     },
     "metadata": {},
     "output_type": "display_data"
    }
   ],
   "source": [
    "# Cross-validated performance heatmap\n",
    "cv_score_mat = pd.pivot_table(cv_result_df, values='mean_test_score', index='l1_ratio', columns='alpha')\n",
    "fig, ax = plt.subplots(figsize=(15,2))\n",
    "\n",
    "xticks = ['2^'+str(x) for x in range(-20, 60)]\n",
    "keptticks = xticks[::int(len(xticks)/10)]\n",
    "xticks = ['' for y in xticks]\n",
    "xticks[::int(len(xticks)/10)] = keptticks\n",
    "\n",
    "ax = sns.heatmap(cv_score_mat, annot=False, fmt='.1%', xticklabels=xticks)\n",
    "ax.set_xlabel('Regularization strength multiplier (alpha)')\n",
    "ax.set_ylabel('Elastic net mixing parameter (l1_ratio)');"
   ]
  },
  {
   "cell_type": "markdown",
   "metadata": {},
   "source": [
    "## Use Optimal Hyperparameters to Output ROC Curve"
   ]
  },
  {
   "cell_type": "code",
   "execution_count": 21,
   "metadata": {
    "collapsed": false
   },
   "outputs": [],
   "source": [
    "y_pred_train = cv.decision_function(X_train_scale)\n",
    "y_pred_test = cv.decision_function(X_test_scale)\n",
    "\n",
    "def get_threshold_metrics(y_true, y_pred):\n",
    "    roc_columns = ['fpr', 'tpr', 'threshold']\n",
    "    roc_items = zip(roc_columns, roc_curve(y_true, y_pred))\n",
    "    roc_df = pd.DataFrame.from_items(roc_items)\n",
    "    auroc = roc_auc_score(y_true, y_pred)\n",
    "    return {'auroc': auroc, 'roc_df': roc_df}\n",
    "\n",
    "metrics_train = get_threshold_metrics(y_train, y_pred_train)\n",
    "metrics_test = get_threshold_metrics(y_test, y_pred_test)"
   ]
  },
  {
   "cell_type": "code",
   "execution_count": 22,
   "metadata": {
    "collapsed": false,
    "scrolled": true
   },
   "outputs": [
    {
     "data": {
      "image/png": "[encoded data removed]",
      "text/plain": [
       "<matplotlib.figure.Figure at 0x7f043b5749b0>"
      ]
     },
     "metadata": {},
     "output_type": "display_data"
    }
   ],
   "source": [
    "# Plot ROC\n",
    "plt.figure()\n",
    "for label, metrics in ('Training', metrics_train), ('Testing', metrics_test):\n",
    "    roc_df = metrics['roc_df']\n",
    "    plt.plot(roc_df.fpr, roc_df.tpr,\n",
    "        label='{} (AUROC = {:.1%})'.format(label, metrics['auroc']))\n",
    "plt.xlim([0.0, 1.0])\n",
    "plt.ylim([0.0, 1.05])\n",
    "plt.xlabel('False Positive Rate')\n",
    "plt.ylabel('True Positive Rate')\n",
    "plt.title('Predicting RIT1 mutation from gene expression (ROC curves)')\n",
    "plt.legend(loc='lower right');"
   ]
  },
  {
   "cell_type": "markdown",
   "metadata": {},
   "source": [
    "## Investigate the predictions"
   ]
  },
  {
   "cell_type": "code",
   "execution_count": 23,
   "metadata": {
    "collapsed": false,
    "scrolled": true
   },
   "outputs": [],
   "source": [
    "X_transformed = scale_post.transform(pca.transform(scale_pre.transform(X)))"
   ]
  },
  {
   "cell_type": "code",
   "execution_count": 24,
   "metadata": {
    "collapsed": false,
    "scrolled": false
   },
   "outputs": [],
   "source": [
    "predict_df = pd.DataFrame.from_items([\n",
    "    ('sample_id', X.index),\n",
    "    ('testing', X.index.isin(X_test.index).astype(int)),\n",
    "    ('status', y),\n",
    "    ('decision_function', cv.decision_function(X_transformed)),\n",
    "    ('probability', cv.predict_proba(X_transformed)[:, 1]),\n",
    "])\n",
    "predict_df['probability_str'] = predict_df['probability'].apply('{:.1%}'.format)"
   ]
  },
  {
   "cell_type": "code",
   "execution_count": 25,
   "metadata": {
    "collapsed": false,
    "scrolled": true
   },
   "outputs": [
    {
     "data": {
      "text/html": [
       "<div>\n",
       "<table border=\"1\" class=\"dataframe\">\n",
       "  <thead>\n",
       "    <tr style=\"text-align: right;\">\n",
       "      <th></th>\n",
       "      <th>sample_id</th>\n",
       "      <th>testing</th>\n",
       "      <th>status</th>\n",
       "      <th>decision_function</th>\n",
       "      <th>probability</th>\n",
       "      <th>probability_str</th>\n",
       "    </tr>\n",
       "    <tr>\n",
       "      <th>sample_id</th>\n",
       "      <th></th>\n",
       "      <th></th>\n",
       "      <th></th>\n",
       "      <th></th>\n",
       "      <th></th>\n",
       "      <th></th>\n",
       "    </tr>\n",
       "  </thead>\n",
       "  <tbody>\n",
       "    <tr>\n",
       "      <th>TCGA-C5-A2LS-01</th>\n",
       "      <td>TCGA-C5-A2LS-01</td>\n",
       "      <td>0</td>\n",
       "      <td>0</td>\n",
       "      <td>1.809132</td>\n",
       "      <td>0.859257</td>\n",
       "      <td>85.9%</td>\n",
       "    </tr>\n",
       "    <tr>\n",
       "      <th>TCGA-55-A492-01</th>\n",
       "      <td>TCGA-55-A492-01</td>\n",
       "      <td>1</td>\n",
       "      <td>0</td>\n",
       "      <td>1.763314</td>\n",
       "      <td>0.853624</td>\n",
       "      <td>85.4%</td>\n",
       "    </tr>\n",
       "    <tr>\n",
       "      <th>TCGA-86-8674-01</th>\n",
       "      <td>TCGA-86-8674-01</td>\n",
       "      <td>0</td>\n",
       "      <td>0</td>\n",
       "      <td>1.743946</td>\n",
       "      <td>0.851188</td>\n",
       "      <td>85.1%</td>\n",
       "    </tr>\n",
       "    <tr>\n",
       "      <th>TCGA-49-4486-01</th>\n",
       "      <td>TCGA-49-4486-01</td>\n",
       "      <td>1</td>\n",
       "      <td>0</td>\n",
       "      <td>1.721305</td>\n",
       "      <td>0.848297</td>\n",
       "      <td>84.8%</td>\n",
       "    </tr>\n",
       "    <tr>\n",
       "      <th>TCGA-67-3770-01</th>\n",
       "      <td>TCGA-67-3770-01</td>\n",
       "      <td>0</td>\n",
       "      <td>0</td>\n",
       "      <td>1.714850</td>\n",
       "      <td>0.847464</td>\n",
       "      <td>84.7%</td>\n",
       "    </tr>\n",
       "    <tr>\n",
       "      <th>TCGA-FU-A3EO-01</th>\n",
       "      <td>TCGA-FU-A3EO-01</td>\n",
       "      <td>0</td>\n",
       "      <td>0</td>\n",
       "      <td>1.684363</td>\n",
       "      <td>0.843481</td>\n",
       "      <td>84.3%</td>\n",
       "    </tr>\n",
       "    <tr>\n",
       "      <th>TCGA-80-5608-01</th>\n",
       "      <td>TCGA-80-5608-01</td>\n",
       "      <td>0</td>\n",
       "      <td>0</td>\n",
       "      <td>1.680588</td>\n",
       "      <td>0.842982</td>\n",
       "      <td>84.3%</td>\n",
       "    </tr>\n",
       "    <tr>\n",
       "      <th>TCGA-55-8506-01</th>\n",
       "      <td>TCGA-55-8506-01</td>\n",
       "      <td>1</td>\n",
       "      <td>0</td>\n",
       "      <td>1.668690</td>\n",
       "      <td>0.841401</td>\n",
       "      <td>84.1%</td>\n",
       "    </tr>\n",
       "    <tr>\n",
       "      <th>TCGA-IR-A3LI-01</th>\n",
       "      <td>TCGA-IR-A3LI-01</td>\n",
       "      <td>0</td>\n",
       "      <td>0</td>\n",
       "      <td>1.664140</td>\n",
       "      <td>0.840793</td>\n",
       "      <td>84.1%</td>\n",
       "    </tr>\n",
       "    <tr>\n",
       "      <th>TCGA-86-8281-01</th>\n",
       "      <td>TCGA-86-8281-01</td>\n",
       "      <td>0</td>\n",
       "      <td>0</td>\n",
       "      <td>1.661539</td>\n",
       "      <td>0.840445</td>\n",
       "      <td>84.0%</td>\n",
       "    </tr>\n",
       "  </tbody>\n",
       "</table>\n",
       "</div>"
      ],
      "text/plain": [
       "                       sample_id  testing  status  decision_function  \\\n",
       "sample_id                                                              \n",
       "TCGA-C5-A2LS-01  TCGA-C5-A2LS-01        0       0           1.809132   \n",
       "TCGA-55-A492-01  TCGA-55-A492-01        1       0           1.763314   \n",
       "TCGA-86-8674-01  TCGA-86-8674-01        0       0           1.743946   \n",
       "TCGA-49-4486-01  TCGA-49-4486-01        1       0           1.721305   \n",
       "TCGA-67-3770-01  TCGA-67-3770-01        0       0           1.714850   \n",
       "TCGA-FU-A3EO-01  TCGA-FU-A3EO-01        0       0           1.684363   \n",
       "TCGA-80-5608-01  TCGA-80-5608-01        0       0           1.680588   \n",
       "TCGA-55-8506-01  TCGA-55-8506-01        1       0           1.668690   \n",
       "TCGA-IR-A3LI-01  TCGA-IR-A3LI-01        0       0           1.664140   \n",
       "TCGA-86-8281-01  TCGA-86-8281-01        0       0           1.661539   \n",
       "\n",
       "                 probability probability_str  \n",
       "sample_id                                     \n",
       "TCGA-C5-A2LS-01     0.859257           85.9%  \n",
       "TCGA-55-A492-01     0.853624           85.4%  \n",
       "TCGA-86-8674-01     0.851188           85.1%  \n",
       "TCGA-49-4486-01     0.848297           84.8%  \n",
       "TCGA-67-3770-01     0.847464           84.7%  \n",
       "TCGA-FU-A3EO-01     0.843481           84.3%  \n",
       "TCGA-80-5608-01     0.842982           84.3%  \n",
       "TCGA-55-8506-01     0.841401           84.1%  \n",
       "TCGA-IR-A3LI-01     0.840793           84.1%  \n",
       "TCGA-86-8281-01     0.840445           84.0%  "
      ]
     },
     "execution_count": 25,
     "metadata": {},
     "output_type": "execute_result"
    }
   ],
   "source": [
    "# Top predictions amongst negatives (potential hidden responders)\n",
    "predict_df.sort_values('decision_function', ascending=False).query(\"status == 0\").head(10)"
   ]
  },
  {
   "cell_type": "code",
   "execution_count": 26,
   "metadata": {
    "collapsed": false,
    "scrolled": true
   },
   "outputs": [
    {
     "data": {
      "image/png": "[encoded data removed]",
      "text/plain": [
       "<matplotlib.figure.Figure at 0x7f04325bcef0>"
      ]
     },
     "metadata": {},
     "output_type": "display_data"
    }
   ],
   "source": [
    "# Ignore numpy warning caused by seaborn\n",
    "warnings.filterwarnings('ignore', 'using a non-integer number instead of an integer')\n",
    "\n",
    "ax = sns.distplot(predict_df.query(\"status == 0\").decision_function, hist=False, label='Negatives')\n",
    "ax = sns.distplot(predict_df.query(\"status == 1\").decision_function, hist=False, label='Positives')"
   ]
  },
  {
   "cell_type": "code",
   "execution_count": 27,
   "metadata": {
    "collapsed": false,
    "scrolled": true
   },
   "outputs": [
    {
     "data": {
      "image/png": "[encoded data removed]",
      "text/plain": [
       "<matplotlib.figure.Figure at 0x7f04387e79b0>"
      ]
     },
     "metadata": {},
     "output_type": "display_data"
    }
   ],
   "source": [
    "ax = sns.distplot(predict_df.query(\"status == 0\").probability, hist=False, label='Negatives')\n",
    "ax = sns.distplot(predict_df.query(\"status == 1\").probability, hist=False, label='Positives')"
   ]
  }
 ],
 "metadata": {
  "anaconda-cloud": {},
  "kernelspec": {
   "display_name": "Python [default]",
   "language": "python",
   "name": "python3"
  },
  "language_info": {
   "codemirror_mode": {
    "name": "ipython",
    "version": 3
   },
   "file_extension": ".py",
   "mimetype": "text/x-python",
   "name": "python",
   "nbconvert_exporter": "python",
   "pygments_lexer": "ipython3",
   "version": "3.5.2"
  }
 },
 "nbformat": 4,
 "nbformat_minor": 0
}
