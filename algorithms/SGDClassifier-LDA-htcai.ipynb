{
 "cells": [
  {
   "cell_type": "markdown",
   "metadata": {},
   "source": [
    "# Create a logistic regression model to predict TP53 mutation from gene expression data in TCGA"
   ]
  },
  {
   "cell_type": "code",
   "execution_count": 1,
   "metadata": {
    "collapsed": false
   },
   "outputs": [],
   "source": [
    "import os\n",
    "import urllib\n",
    "import random\n",
    "import warnings\n",
    "import resource\n",
    "\n",
    "import pandas as pd\n",
    "import numpy as np\n",
    "import matplotlib.pyplot as plt\n",
    "import seaborn as sns\n",
    "from sklearn import preprocessing, grid_search\n",
    "from sklearn.linear_model import SGDClassifier\n",
    "from sklearn.cross_validation import train_test_split\n",
    "from sklearn.metrics import roc_auc_score, roc_curve\n",
    "from sklearn.pipeline import make_pipeline\n",
    "from sklearn.preprocessing import StandardScaler\n",
    "from sklearn.discriminant_analysis import LinearDiscriminantAnalysis\n",
    "from sklearn.decomposition import PCA\n",
    "from statsmodels.robust.scale import mad"
   ]
  },
  {
   "cell_type": "code",
   "execution_count": 2,
   "metadata": {
    "collapsed": false
   },
   "outputs": [],
   "source": [
    "%matplotlib inline\n",
    "plt.style.use('seaborn-notebook')"
   ]
  },
  {
   "cell_type": "markdown",
   "metadata": {},
   "source": [
    "## Specify model configuration"
   ]
  },
  {
   "cell_type": "code",
   "execution_count": 3,
   "metadata": {
    "collapsed": true
   },
   "outputs": [],
   "source": [
    "# We're going to be building a 'TP53' classifier \n",
    "GENE = '7157' # TP53"
   ]
  },
  {
   "cell_type": "code",
   "execution_count": 4,
   "metadata": {
    "collapsed": false
   },
   "outputs": [],
   "source": [
    "# Parameter Sweep for Hyperparameters\n",
    "n_feature_pca = 300\n",
    "n_feature_kept = 10\n",
    "param_fixed = {\n",
    "    'loss': 'log',\n",
    "    'penalty': 'elasticnet',\n",
    "}\n",
    "param_grid = {\n",
    "    'alpha': [10 ** x for x in range(-5, 2)],\n",
    "    'l1_ratio': [0, 0.05, 0.1, 0.2, 0.5, 0.8, 0.9, 0.95, 1],\n",
    "}"
   ]
  },
  {
   "cell_type": "markdown",
   "metadata": {},
   "source": [
    "*Here is some [documentation](http://scikit-learn.org/stable/modules/generated/sklearn.linear_model.SGDClassifier.html) regarding the classifier and hyperparameters*\n",
    "\n",
    "*Here is some [information](https://ghr.nlm.nih.gov/gene/TP53) about TP53*"
   ]
  },
  {
   "cell_type": "markdown",
   "metadata": {},
   "source": [
    "## Load Data"
   ]
  },
  {
   "cell_type": "code",
   "execution_count": 5,
   "metadata": {
    "collapsed": false
   },
   "outputs": [
    {
     "name": "stdout",
     "output_type": "stream",
     "text": [
      "CPU times: user 2min 48s, sys: 4.95 s, total: 2min 53s\n",
      "Wall time: 2min 55s\n"
     ]
    }
   ],
   "source": [
    "%%time\n",
    "path = os.path.join('..', 'download', 'expression-matrix.tsv.bz2')\n",
    "X = pd.read_table(path, index_col=0)"
   ]
  },
  {
   "cell_type": "code",
   "execution_count": 6,
   "metadata": {
    "collapsed": false
   },
   "outputs": [
    {
     "name": "stdout",
     "output_type": "stream",
     "text": [
      "CPU times: user 1min 33s, sys: 3.99 s, total: 1min 37s\n",
      "Wall time: 1min 38s\n"
     ]
    }
   ],
   "source": [
    "%%time\n",
    "path = os.path.join('..', 'download', 'mutation-matrix.tsv.bz2')\n",
    "Y = pd.read_table(path, index_col=0)"
   ]
  },
  {
   "cell_type": "code",
   "execution_count": 7,
   "metadata": {
    "collapsed": false
   },
   "outputs": [],
   "source": [
    "y = Y[GENE]"
   ]
  },
  {
   "cell_type": "code",
   "execution_count": 8,
   "metadata": {
    "collapsed": false
   },
   "outputs": [
    {
     "data": {
      "text/plain": [
       "sample_id\n",
       "TCGA-02-0047-01    0\n",
       "TCGA-02-0055-01    1\n",
       "TCGA-02-2483-01    1\n",
       "TCGA-02-2485-01    1\n",
       "TCGA-02-2486-01    0\n",
       "TCGA-04-1348-01    1\n",
       "Name: 7157, dtype: int64"
      ]
     },
     "execution_count": 8,
     "metadata": {},
     "output_type": "execute_result"
    }
   ],
   "source": [
    "# The Series now holds TP53 Mutation Status for each Sample\n",
    "y.head(6)"
   ]
  },
  {
   "cell_type": "code",
   "execution_count": 9,
   "metadata": {
    "collapsed": false
   },
   "outputs": [
    {
     "data": {
      "text/plain": [
       "0    0.645907\n",
       "1    0.354093\n",
       "Name: 7157, dtype: float64"
      ]
     },
     "execution_count": 9,
     "metadata": {},
     "output_type": "execute_result"
    }
   ],
   "source": [
    "# Here are the percentage of tumors with NF1\n",
    "y.value_counts(True)"
   ]
  },
  {
   "cell_type": "markdown",
   "metadata": {},
   "source": [
    "## Set aside 10% of the data for testing"
   ]
  },
  {
   "cell_type": "code",
   "execution_count": 10,
   "metadata": {
    "collapsed": false
   },
   "outputs": [
    {
     "data": {
      "text/plain": [
       "'Size: 20,530 features, 6,575 training samples, 731 testing samples'"
      ]
     },
     "execution_count": 10,
     "metadata": {},
     "output_type": "execute_result"
    }
   ],
   "source": [
    "# Typically, this can only be done where the number of mutations is large enough\n",
    "X_train, X_test, y_train, y_test = train_test_split(X, y, test_size=0.1, random_state=0)\n",
    "'Size: {:,} features, {:,} training samples, {:,} testing samples'.format(len(X.columns), len(X_train), len(X_test))"
   ]
  },
  {
   "cell_type": "markdown",
   "metadata": {},
   "source": [
    "## Reduce the dimensionality via Principal Component Analysis and Linear Discriminant Analysis"
   ]
  },
  {
   "cell_type": "code",
   "execution_count": 11,
   "metadata": {
    "collapsed": false
   },
   "outputs": [],
   "source": [
    "pca = PCA(n_components=n_feature_pca)\n",
    "lda = LinearDiscriminantAnalysis(n_components=n_feature_kept)"
   ]
  },
  {
   "cell_type": "markdown",
   "metadata": {},
   "source": [
    "## Define pipeline and Cross validation model fitting"
   ]
  },
  {
   "cell_type": "code",
   "execution_count": 12,
   "metadata": {
    "collapsed": false
   },
   "outputs": [],
   "source": [
    "# Include loss='log' in param_grid doesn't work with pipeline somehow\n",
    "clf = SGDClassifier(random_state=0, class_weight='balanced',\n",
    "                    loss=param_fixed['loss'], penalty=param_fixed['penalty'])\n",
    "\n",
    "# joblib is used to cross-validate in parallel by setting `n_jobs=-1` in GridSearchCV\n",
    "# Supress joblib warning. See https://github.com/scikit-learn/scikit-learn/issues/6370\n",
    "warnings.filterwarnings('ignore', message='Changing the shape of non-C contiguous array')\n",
    "clf_grid = grid_search.GridSearchCV(estimator=clf, param_grid=param_grid, n_jobs=-1, scoring='roc_auc')\n",
    "pipeline = make_pipeline(\n",
    "    StandardScaler(),  # Feature scaling\n",
    "    pca, # Dimensionality reduction via PCA\n",
    "    lda, # Dimensionality reduciton via LDA\n",
    "    clf_grid)"
   ]
  },
  {
   "cell_type": "code",
   "execution_count": 13,
   "metadata": {
    "collapsed": false
   },
   "outputs": [
    {
     "name": "stdout",
     "output_type": "stream",
     "text": [
      "The max memory usage is 4.957 GB\n",
      "CPU times: user 10min 13s, sys: 15.8 s, total: 10min 29s\n",
      "Wall time: 5min 32s\n"
     ]
    }
   ],
   "source": [
    "%%time\n",
    "# Fit the model (the computationally intensive part)\n",
    "pipeline.fit(X=X_train, y=y_train)\n",
    "best_clf = clf_grid.best_estimator_\n",
    "print(\"The max memory usage is {:.3f} GB\".format(resource.getrusage(resource.RUSAGE_SELF).ru_maxrss/(1024**3)))"
   ]
  },
  {
   "cell_type": "code",
   "execution_count": 14,
   "metadata": {
    "collapsed": false
   },
   "outputs": [
    {
     "data": {
      "text/plain": [
       "{'alpha': 1e-05, 'l1_ratio': 0}"
      ]
     },
     "execution_count": 14,
     "metadata": {},
     "output_type": "execute_result"
    }
   ],
   "source": [
    "clf_grid.best_params_"
   ]
  },
  {
   "cell_type": "code",
   "execution_count": 15,
   "metadata": {
    "collapsed": false
   },
   "outputs": [
    {
     "data": {
      "text/plain": [
       "SGDClassifier(alpha=1e-05, average=False, class_weight='balanced',\n",
       "       epsilon=0.1, eta0=0.0, fit_intercept=True, l1_ratio=0,\n",
       "       learning_rate='optimal', loss='log', n_iter=5, n_jobs=1,\n",
       "       penalty='elasticnet', power_t=0.5, random_state=0, shuffle=True,\n",
       "       verbose=0, warm_start=False)"
      ]
     },
     "execution_count": 15,
     "metadata": {},
     "output_type": "execute_result"
    }
   ],
   "source": [
    "best_clf"
   ]
  },
  {
   "cell_type": "markdown",
   "metadata": {},
   "source": [
    "## Visualize hyperparameters performance"
   ]
  },
  {
   "cell_type": "code",
   "execution_count": 16,
   "metadata": {
    "collapsed": false
   },
   "outputs": [],
   "source": [
    "def grid_scores_to_df(grid_scores):\n",
    "    \"\"\"\n",
    "    Convert a sklearn.grid_search.GridSearchCV.grid_scores_ attribute to \n",
    "    a tidy pandas DataFrame where each row is a hyperparameter-fold combinatination.\n",
    "    \"\"\"\n",
    "    rows = list()\n",
    "    for grid_score in grid_scores:\n",
    "        for fold, score in enumerate(grid_score.cv_validation_scores):\n",
    "            row = grid_score.parameters.copy()\n",
    "            row['fold'] = fold\n",
    "            row['score'] = score\n",
    "            rows.append(row)\n",
    "    df = pd.DataFrame(rows)\n",
    "    return df"
   ]
  },
  {
   "cell_type": "markdown",
   "metadata": {},
   "source": [
    "## Process Mutation Matrix"
   ]
  },
  {
   "cell_type": "code",
   "execution_count": 17,
   "metadata": {
    "collapsed": false
   },
   "outputs": [
    {
     "data": {
      "text/html": [
       "<div>\n",
       "<table border=\"1\" class=\"dataframe\">\n",
       "  <thead>\n",
       "    <tr style=\"text-align: right;\">\n",
       "      <th></th>\n",
       "      <th>alpha</th>\n",
       "      <th>fold</th>\n",
       "      <th>l1_ratio</th>\n",
       "      <th>score</th>\n",
       "    </tr>\n",
       "  </thead>\n",
       "  <tbody>\n",
       "    <tr>\n",
       "      <th>0</th>\n",
       "      <td>0.00001</td>\n",
       "      <td>0</td>\n",
       "      <td>0.0</td>\n",
       "      <td>0.945005</td>\n",
       "    </tr>\n",
       "    <tr>\n",
       "      <th>1</th>\n",
       "      <td>0.00001</td>\n",
       "      <td>1</td>\n",
       "      <td>0.0</td>\n",
       "      <td>0.947590</td>\n",
       "    </tr>\n",
       "  </tbody>\n",
       "</table>\n",
       "</div>"
      ],
      "text/plain": [
       "     alpha  fold  l1_ratio     score\n",
       "0  0.00001     0       0.0  0.945005\n",
       "1  0.00001     1       0.0  0.947590"
      ]
     },
     "execution_count": 17,
     "metadata": {},
     "output_type": "execute_result"
    }
   ],
   "source": [
    "cv_score_df = grid_scores_to_df(clf_grid.grid_scores_)\n",
    "cv_score_df.head(2)"
   ]
  },
  {
   "cell_type": "code",
   "execution_count": 18,
   "metadata": {
    "collapsed": false
   },
   "outputs": [
    {
     "data": {
      "image/png": "[encoded data removed]",
      "text/plain": [
       "<matplotlib.figure.Figure at 0x1048b7b38>"
      ]
     },
     "metadata": {},
     "output_type": "display_data"
    }
   ],
   "source": [
    "# Cross-validated performance distribution\n",
    "facet_grid = sns.factorplot(x='l1_ratio', y='score', col='alpha',\n",
    "    data=cv_score_df, kind='violin', size=4, aspect=1)\n",
    "facet_grid.set_ylabels('AUROC');"
   ]
  },
  {
   "cell_type": "code",
   "execution_count": 19,
   "metadata": {
    "collapsed": false
   },
   "outputs": [
    {
     "data": {
      "image/png": "[encoded data removed]",
      "text/plain": [
       "<matplotlib.figure.Figure at 0x171a00b38>"
      ]
     },
     "metadata": {},
     "output_type": "display_data"
    }
   ],
   "source": [
    "# Cross-validated performance heatmap\n",
    "cv_score_mat = pd.pivot_table(cv_score_df, values='score', index='l1_ratio', columns='alpha')\n",
    "ax = sns.heatmap(cv_score_mat, annot=True, fmt='.1%')\n",
    "ax.set_xlabel('Regularization strength multiplier (alpha)')\n",
    "ax.set_ylabel('Elastic net mixing parameter (l1_ratio)');"
   ]
  },
  {
   "cell_type": "markdown",
   "metadata": {},
   "source": [
    "## Use Optimal Hyperparameters to Output ROC Curve"
   ]
  },
  {
   "cell_type": "code",
   "execution_count": 20,
   "metadata": {
    "collapsed": false
   },
   "outputs": [],
   "source": [
    "y_pred_train = pipeline.decision_function(X_train)\n",
    "y_pred_test = pipeline.decision_function(X_test)\n",
    "\n",
    "def get_threshold_metrics(y_true, y_pred):\n",
    "    roc_columns = ['fpr', 'tpr', 'threshold']\n",
    "    roc_items = zip(roc_columns, roc_curve(y_true, y_pred))\n",
    "    roc_df = pd.DataFrame.from_items(roc_items)\n",
    "    auroc = roc_auc_score(y_true, y_pred)\n",
    "    return {'auroc': auroc, 'roc_df': roc_df}\n",
    "\n",
    "metrics_train = get_threshold_metrics(y_train, y_pred_train)\n",
    "metrics_test = get_threshold_metrics(y_test, y_pred_test)"
   ]
  },
  {
   "cell_type": "code",
   "execution_count": 21,
   "metadata": {
    "collapsed": false
   },
   "outputs": [
    {
     "data": {
      "image/png": "[encoded data removed]",
      "text/plain": [
       "<matplotlib.figure.Figure at 0x123689390>"
      ]
     },
     "metadata": {},
     "output_type": "display_data"
    }
   ],
   "source": [
    "# Plot ROC\n",
    "plt.figure()\n",
    "for label, metrics in ('Training', metrics_train), ('Testing', metrics_test):\n",
    "    roc_df = metrics['roc_df']\n",
    "    plt.plot(roc_df.fpr, roc_df.tpr,\n",
    "        label='{} (AUROC = {:.1%})'.format(label, metrics['auroc']))\n",
    "plt.xlim([0.0, 1.0])\n",
    "plt.ylim([0.0, 1.05])\n",
    "plt.xlabel('False Positive Rate')\n",
    "plt.ylabel('True Positive Rate')\n",
    "plt.title('Predicting TP53 mutation from gene expression (ROC curves)')\n",
    "plt.legend(loc='lower right');"
   ]
  },
  {
   "cell_type": "markdown",
   "metadata": {},
   "source": [
    "## Investigate the predictions"
   ]
  },
  {
   "cell_type": "code",
   "execution_count": 22,
   "metadata": {
    "collapsed": false,
    "scrolled": false
   },
   "outputs": [],
   "source": [
    "predict_df = pd.DataFrame.from_items([\n",
    "    ('sample_id', X.index),\n",
    "    ('testing', X.index.isin(X_test.index).astype(int)),\n",
    "    ('status', y),\n",
    "    ('decision_function', pipeline.decision_function(X)),\n",
    "    ('probability', pipeline.predict_proba(X)[:, 1]),\n",
    "])\n",
    "predict_df['probability_str'] = predict_df['probability'].apply('{:.1%}'.format)"
   ]
  },
  {
   "cell_type": "code",
   "execution_count": 23,
   "metadata": {
    "collapsed": false
   },
   "outputs": [
    {
     "data": {
      "text/html": [
       "<div>\n",
       "<table border=\"1\" class=\"dataframe\">\n",
       "  <thead>\n",
       "    <tr style=\"text-align: right;\">\n",
       "      <th></th>\n",
       "      <th>sample_id</th>\n",
       "      <th>testing</th>\n",
       "      <th>status</th>\n",
       "      <th>decision_function</th>\n",
       "      <th>probability</th>\n",
       "      <th>probability_str</th>\n",
       "    </tr>\n",
       "    <tr>\n",
       "      <th>sample_id</th>\n",
       "      <th></th>\n",
       "      <th></th>\n",
       "      <th></th>\n",
       "      <th></th>\n",
       "      <th></th>\n",
       "      <th></th>\n",
       "    </tr>\n",
       "  </thead>\n",
       "  <tbody>\n",
       "    <tr>\n",
       "      <th>TCGA-EI-6513-01</th>\n",
       "      <td>TCGA-EI-6513-01</td>\n",
       "      <td>1</td>\n",
       "      <td>0</td>\n",
       "      <td>21.435377</td>\n",
       "      <td>1.0</td>\n",
       "      <td>100.0%</td>\n",
       "    </tr>\n",
       "    <tr>\n",
       "      <th>TCGA-CK-5912-01</th>\n",
       "      <td>TCGA-CK-5912-01</td>\n",
       "      <td>0</td>\n",
       "      <td>0</td>\n",
       "      <td>19.463339</td>\n",
       "      <td>1.0</td>\n",
       "      <td>100.0%</td>\n",
       "    </tr>\n",
       "    <tr>\n",
       "      <th>TCGA-L5-A4OH-01</th>\n",
       "      <td>TCGA-L5-A4OH-01</td>\n",
       "      <td>0</td>\n",
       "      <td>0</td>\n",
       "      <td>19.094222</td>\n",
       "      <td>1.0</td>\n",
       "      <td>100.0%</td>\n",
       "    </tr>\n",
       "    <tr>\n",
       "      <th>TCGA-CQ-A4CI-01</th>\n",
       "      <td>TCGA-CQ-A4CI-01</td>\n",
       "      <td>0</td>\n",
       "      <td>0</td>\n",
       "      <td>19.046985</td>\n",
       "      <td>1.0</td>\n",
       "      <td>100.0%</td>\n",
       "    </tr>\n",
       "    <tr>\n",
       "      <th>TCGA-G2-A2EF-01</th>\n",
       "      <td>TCGA-G2-A2EF-01</td>\n",
       "      <td>1</td>\n",
       "      <td>0</td>\n",
       "      <td>18.318575</td>\n",
       "      <td>1.0</td>\n",
       "      <td>100.0%</td>\n",
       "    </tr>\n",
       "    <tr>\n",
       "      <th>TCGA-BA-5149-01</th>\n",
       "      <td>TCGA-BA-5149-01</td>\n",
       "      <td>0</td>\n",
       "      <td>0</td>\n",
       "      <td>17.999266</td>\n",
       "      <td>1.0</td>\n",
       "      <td>100.0%</td>\n",
       "    </tr>\n",
       "    <tr>\n",
       "      <th>TCGA-L5-A8NR-01</th>\n",
       "      <td>TCGA-L5-A8NR-01</td>\n",
       "      <td>0</td>\n",
       "      <td>0</td>\n",
       "      <td>17.902813</td>\n",
       "      <td>1.0</td>\n",
       "      <td>100.0%</td>\n",
       "    </tr>\n",
       "    <tr>\n",
       "      <th>TCGA-46-3765-01</th>\n",
       "      <td>TCGA-46-3765-01</td>\n",
       "      <td>0</td>\n",
       "      <td>0</td>\n",
       "      <td>17.706273</td>\n",
       "      <td>1.0</td>\n",
       "      <td>100.0%</td>\n",
       "    </tr>\n",
       "    <tr>\n",
       "      <th>TCGA-CV-6954-01</th>\n",
       "      <td>TCGA-CV-6954-01</td>\n",
       "      <td>0</td>\n",
       "      <td>0</td>\n",
       "      <td>16.745752</td>\n",
       "      <td>1.0</td>\n",
       "      <td>100.0%</td>\n",
       "    </tr>\n",
       "    <tr>\n",
       "      <th>TCGA-IK-7675-01</th>\n",
       "      <td>TCGA-IK-7675-01</td>\n",
       "      <td>1</td>\n",
       "      <td>0</td>\n",
       "      <td>16.720051</td>\n",
       "      <td>1.0</td>\n",
       "      <td>100.0%</td>\n",
       "    </tr>\n",
       "  </tbody>\n",
       "</table>\n",
       "</div>"
      ],
      "text/plain": [
       "                       sample_id  testing  status  decision_function  \\\n",
       "sample_id                                                              \n",
       "TCGA-EI-6513-01  TCGA-EI-6513-01        1       0          21.435377   \n",
       "TCGA-CK-5912-01  TCGA-CK-5912-01        0       0          19.463339   \n",
       "TCGA-L5-A4OH-01  TCGA-L5-A4OH-01        0       0          19.094222   \n",
       "TCGA-CQ-A4CI-01  TCGA-CQ-A4CI-01        0       0          19.046985   \n",
       "TCGA-G2-A2EF-01  TCGA-G2-A2EF-01        1       0          18.318575   \n",
       "TCGA-BA-5149-01  TCGA-BA-5149-01        0       0          17.999266   \n",
       "TCGA-L5-A8NR-01  TCGA-L5-A8NR-01        0       0          17.902813   \n",
       "TCGA-46-3765-01  TCGA-46-3765-01        0       0          17.706273   \n",
       "TCGA-CV-6954-01  TCGA-CV-6954-01        0       0          16.745752   \n",
       "TCGA-IK-7675-01  TCGA-IK-7675-01        1       0          16.720051   \n",
       "\n",
       "                 probability probability_str  \n",
       "sample_id                                     \n",
       "TCGA-EI-6513-01          1.0          100.0%  \n",
       "TCGA-CK-5912-01          1.0          100.0%  \n",
       "TCGA-L5-A4OH-01          1.0          100.0%  \n",
       "TCGA-CQ-A4CI-01          1.0          100.0%  \n",
       "TCGA-G2-A2EF-01          1.0          100.0%  \n",
       "TCGA-BA-5149-01          1.0          100.0%  \n",
       "TCGA-L5-A8NR-01          1.0          100.0%  \n",
       "TCGA-46-3765-01          1.0          100.0%  \n",
       "TCGA-CV-6954-01          1.0          100.0%  \n",
       "TCGA-IK-7675-01          1.0          100.0%  "
      ]
     },
     "execution_count": 23,
     "metadata": {},
     "output_type": "execute_result"
    }
   ],
   "source": [
    "# Top predictions amongst negatives (potential hidden responders)\n",
    "predict_df.sort_values('decision_function', ascending=False).query(\"status == 0\").head(10)"
   ]
  },
  {
   "cell_type": "code",
   "execution_count": 24,
   "metadata": {
    "collapsed": false
   },
   "outputs": [
    {
     "data": {
      "image/png": "[encoded data removed]",
      "text/plain": [
       "<matplotlib.figure.Figure at 0x12a3d8550>"
      ]
     },
     "metadata": {},
     "output_type": "display_data"
    }
   ],
   "source": [
    "# Ignore numpy warning caused by seaborn\n",
    "warnings.filterwarnings('ignore', 'using a non-integer number instead of an integer')\n",
    "\n",
    "ax = sns.distplot(predict_df.query(\"status == 0\").decision_function, hist=False, label='Negatives')\n",
    "ax = sns.distplot(predict_df.query(\"status == 1\").decision_function, hist=False, label='Positives')"
   ]
  },
  {
   "cell_type": "code",
   "execution_count": 25,
   "metadata": {
    "collapsed": false
   },
   "outputs": [
    {
     "data": {
      "image/png": "[encoded data removed]",
      "text/plain": [
       "<matplotlib.figure.Figure at 0x12a3b5b70>"
      ]
     },
     "metadata": {},
     "output_type": "display_data"
    }
   ],
   "source": [
    "ax = sns.distplot(predict_df.query(\"status == 0\").probability, hist=False, label='Negatives')\n",
    "ax = sns.distplot(predict_df.query(\"status == 1\").probability, hist=False, label='Positives')"
   ]
  }
 ],
 "metadata": {
  "kernelspec": {
   "display_name": "Python 3",
   "language": "python",
   "name": "python3"
  },
  "language_info": {
   "codemirror_mode": {
    "name": "ipython",
    "version": 3
   },
   "file_extension": ".py",
   "mimetype": "text/x-python",
   "name": "python",
   "nbconvert_exporter": "python",
   "pygments_lexer": "ipython3",
   "version": "3.5.2"
  }
 },
 "nbformat": 4,
 "nbformat_minor": 0
}
